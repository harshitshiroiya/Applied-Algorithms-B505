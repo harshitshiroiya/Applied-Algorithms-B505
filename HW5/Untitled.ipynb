{
 "cells": [
  {
   "cell_type": "markdown",
   "id": "f4370a97",
   "metadata": {},
   "source": [
    "# HW5\n",
    "\n",
    "AUTHORS: **Harshit Shiroiya** (hshiroiy@iu.edu) and **Mahadevan Iyer** ()"
   ]
  },
  {
   "cell_type": "code",
   "execution_count": 92,
   "id": "1d882c8b",
   "metadata": {},
   "outputs": [],
   "source": [
    "import sys\n",
    "import os\n",
    "import re\n",
    "import math\n",
    "import time\n",
    "import matplotlib.pyplot as plt\n",
    "import random"
   ]
  },
  {
   "cell_type": "markdown",
   "id": "ccf2764c",
   "metadata": {},
   "source": [
    "## Problem 1: Pattern-matching: The brute-force"
   ]
  },
  {
   "cell_type": "markdown",
   "id": "11f72356",
   "metadata": {},
   "source": [
    "### Problem 1.1: The brute-force pattern-matching algorithm\n",
    "Describe a text D and a pattern P such that the brute-force pattern-matching algorithm runs in\n",
    "Ω(dp) time.The lengths of D and P are d and p, respectively.\n",
    "\n",
    "### Solution:"
   ]
  },
  {
   "cell_type": "code",
   "execution_count": 93,
   "id": "2e83fef5",
   "metadata": {},
   "outputs": [
    {
     "data": {
      "text/plain": [
       "4"
      ]
     },
     "execution_count": 93,
     "metadata": {},
     "output_type": "execute_result"
    }
   ],
   "source": [
    "# Brute force\n",
    "def brute_force(T,P):\n",
    "    n = len(T)\n",
    "    m = len(P)\n",
    "    k=0\n",
    "    count=0\n",
    "    for i in range(n-m+1):\n",
    "        k=0\n",
    "        while(k<m and T[i+k]==P[k]):\n",
    "            k+=1\n",
    "        if(k==m):\n",
    "            count+=1\n",
    "    return count\n",
    "        \n",
    "a = 'cdcdcdcdc'\n",
    "b = 'cdc'\n",
    "brute_force(a,b)"
   ]
  },
  {
   "cell_type": "code",
   "execution_count": null,
   "id": "fb6ad9d3",
   "metadata": {},
   "outputs": [],
   "source": []
  },
  {
   "cell_type": "markdown",
   "id": "6b9c1cfe",
   "metadata": {},
   "source": [
    "### Problem 1.2: Python’s str class and pattern-matching\n",
    "In this part, you are asked to modify three pattern matching programs given to you (See ap-\n",
    "pendix). Run your modified programs for varying-length patterns and show your results.\n",
    "The count method in Python’s str class takes a text D and a pattern P and returns the\n",
    "maximum number of non-overlapping occurrences of a P within D. As an example ‘cdcdcd-\n",
    "cdc’.count(‘cdc’) returns 2.\n",
    "1. Modify the brute-force pattern-matching to return non-overlapping occurrences of a P\n",
    "within D.\n",
    "2. Similar to the previous question (Problem 1.2.1), do the same on the Boyer-Moore pro-\n",
    "gram.\n",
    "3. Similar to problem 1.2.1, modify the KMP program.\n",
    "\n",
    "### Solution:"
   ]
  },
  {
   "cell_type": "code",
   "execution_count": 94,
   "id": "7fecf5fe",
   "metadata": {},
   "outputs": [
    {
     "data": {
      "text/plain": [
       "4"
      ]
     },
     "execution_count": 94,
     "metadata": {},
     "output_type": "execute_result"
    }
   ],
   "source": [
    "# Brute force\n",
    "def brute_force(T,P):\n",
    "    n = len(T)\n",
    "    m = len(P)\n",
    "    k=0\n",
    "    count=0\n",
    "    for i in range(n-m+1):\n",
    "        k=0\n",
    "        while(k<m and T[i+k]==P[k]):\n",
    "            k+=1\n",
    "        if(k==m):\n",
    "            count+=1\n",
    "    return count\n",
    "        \n",
    "a = 'cdcdcdcdc'\n",
    "b = 'cdc'\n",
    "brute_force(a,b)"
   ]
  },
  {
   "cell_type": "code",
   "execution_count": 95,
   "id": "251a365d",
   "metadata": {},
   "outputs": [
    {
     "data": {
      "text/plain": [
       "4"
      ]
     },
     "execution_count": 95,
     "metadata": {},
     "output_type": "execute_result"
    }
   ],
   "source": [
    "# Boyer - Moore\n",
    "def boyer_moore(T,P):\n",
    "    n = len(T)\n",
    "    m = len(P)\n",
    "    count=0\n",
    "    if(m==0):\n",
    "        return 0\n",
    "    last = {}\n",
    "    for k in range(m):\n",
    "        last[P[k]]=k\n",
    "    i = m-1\n",
    "    k = m-1\n",
    "    while(i<n):\n",
    "        if(T[i]==P[k]):\n",
    "            if(k==0):\n",
    "                count+=1\n",
    "                j = last.get(T[i],-1)\n",
    "                i+=m-min(k,j+1)\n",
    "                k=m-1\n",
    "            else:\n",
    "                i-=1\n",
    "                k-=1\n",
    "        else:\n",
    "            j = last.get(T[i],-1)\n",
    "            i+=m-min(k,j+1)\n",
    "            k=m-1\n",
    "    return count\n",
    "\n",
    "T = 'cdcdcdcdc'\n",
    "P = 'cdc'\n",
    "boyer_moore(T,P)"
   ]
  },
  {
   "cell_type": "code",
   "execution_count": 96,
   "id": "b439c377",
   "metadata": {},
   "outputs": [
    {
     "data": {
      "text/plain": [
       "4"
      ]
     },
     "execution_count": 96,
     "metadata": {},
     "output_type": "execute_result"
    }
   ],
   "source": [
    "# Normal KMP Algorithm returning number of matched patterns\n",
    "\n",
    "def compute_kmp_fail(P):\n",
    "    m = len(P)\n",
    "    fail = [0] * m\n",
    "    j = 1\n",
    "    k = 0\n",
    "    while j < m:\n",
    "        if P[j] == P[k]:\n",
    "            fail[j] = k+1\n",
    "            j += 1\n",
    "            k += 1\n",
    "        elif k > 0:\n",
    "            k = fail[k-1]\n",
    "        else:\n",
    "            j += 1\n",
    "    return fail\n",
    "\n",
    "def find_kmp(T, P):\n",
    "    n, m = len(T), len(P)\n",
    "    if m == 0:\n",
    "        return 0\n",
    "    fail = compute_kmp_fail(P)\n",
    "    j = 0\n",
    "    k = 0\n",
    "    cnt=0\n",
    "    while j < n:\n",
    "        if T[j] == P[k]:\n",
    "            if k == m-1:\n",
    "                cnt+=1\n",
    "                k = fail[k-1]\n",
    "            j += 1\n",
    "            k += 1\n",
    "        elif k > 0:\n",
    "            k = fail[k-1]\n",
    "        else:\n",
    "            j += 1\n",
    "    return cnt\n",
    "\n",
    "T = 'cdcdcdcdc'\n",
    "P = 'cdc'\n",
    "\n",
    "# T = 'AAABBCCDDEEAAAAAA'\n",
    "# P = 'AA'\n",
    "\n",
    "find_kmp(T,P)"
   ]
  },
  {
   "cell_type": "code",
   "execution_count": null,
   "id": "bcbc6696",
   "metadata": {},
   "outputs": [],
   "source": []
  },
  {
   "cell_type": "code",
   "execution_count": null,
   "id": "e2155812",
   "metadata": {},
   "outputs": [],
   "source": []
  },
  {
   "cell_type": "markdown",
   "id": "c093f655",
   "metadata": {},
   "source": [
    "## Problem 2: Experimental Analysis of Pattern-Matching Algorithms\n",
    "\n",
    "Perform an experimental analysis of pattern matching algorithms in terms of:\n",
    "1. Number of character comparison: Perform an experimental analysis of the efficiency of\n",
    "the brute-force, the KMP and Boyer-Moore pattern matching algorithms for varying-length\n",
    "patterns.\n",
    "2. Relative speed comparison: Perform an experimental comparison of the brute-force, KMP,\n",
    "and Boyer-Moore pattern-matching algorithms. Run each algorithm against large text doc-\n",
    "uments using varying-length patterns and report the relative running times.\n",
    "\n",
    "\n",
    "### Solution:"
   ]
  },
  {
   "cell_type": "code",
   "execution_count": null,
   "id": "c7b482e0",
   "metadata": {},
   "outputs": [],
   "source": []
  },
  {
   "cell_type": "code",
   "execution_count": null,
   "id": "e4fe180f",
   "metadata": {},
   "outputs": [],
   "source": []
  },
  {
   "cell_type": "code",
   "execution_count": null,
   "id": "5c2787b9",
   "metadata": {},
   "outputs": [],
   "source": []
  },
  {
   "cell_type": "code",
   "execution_count": null,
   "id": "73351f77",
   "metadata": {},
   "outputs": [],
   "source": []
  },
  {
   "cell_type": "markdown",
   "id": "8c2b42a0",
   "metadata": {},
   "source": [
    "## Problem 3: Matrix-chain Multiplication\n",
    "\n",
    "The matrix-chain multiplication problem: Given a chain of < D1, D2, . . . , Dn > of n matrices fully\n",
    "parenthesize the product < D1 ·D2 ···Dn > in a way so that the number of scalar multiplications\n",
    "is minimized. Each Di has a pi−1 × pi dimension and i = 1, 2, . . . , n.\n",
    "1. The Brute-Force: [10 pt.]: Implement a Python program to solve the matrix-chain multipli-\n",
    "cation problem by the brute force algorithm.\n",
    "2. Bottom-up Dynamic Programming [20 pt.]: Implement a Python program to solve the\n",
    "matrix-chain multiplication problem using bottom-up dynamic programming approach.\n",
    "3. Dynamic Programming with Memoization [Extra Credit, 10 pt.]: Implement a Python pro-\n",
    "gram to solve the matrix-chain multiplication problem using dynamic programming with\n",
    "memoization."
   ]
  },
  {
   "cell_type": "code",
   "execution_count": 97,
   "id": "b0584d85",
   "metadata": {},
   "outputs": [
    {
     "name": "stdout",
     "output_type": "stream",
     "text": [
      "Matrix Chain Multiplication using Brute Force:  14375\n"
     ]
    }
   ],
   "source": [
    "# 1. Brute Force\n",
    "def Matrix_chain_brute(A,i,j):\n",
    "    if i == j:\n",
    "        return 0\n",
    "    temp = sys.maxsize\n",
    "    for k in range(i, j):\n",
    "        count = (Matrix_chain_brute(A, i, k) + Matrix_chain_brute(A, k + 1, j)+ A[i-1] * A[k] * A[j])\n",
    "        if count < temp:\n",
    "            temp = count\n",
    "    return temp\n",
    "\n",
    "\n",
    "A = [25,15,20,30,45,5,10]\n",
    "n = len(A) - 1\n",
    "print(\"Matrix Chain Multiplication using Brute Force: \",Matrix_chain_brute(A,1,n))\n"
   ]
  },
  {
   "cell_type": "code",
   "execution_count": 107,
   "id": "90733fad",
   "metadata": {},
   "outputs": [
    {
     "name": "stdout",
     "output_type": "stream",
     "text": [
      "\n",
      " Matrix Chain Multiplication using Dynamic Programming:  14375\n"
     ]
    }
   ],
   "source": [
    "# 2. Bottom Up Dynamic Programming\n",
    "def parenthesis(A,i,j):\n",
    "    if i==j:\n",
    "        print(\"A{0}\".format(i), end= \"\") \n",
    "    else :\n",
    "        print(\"(\", end= \"\")\n",
    "        parenthesis(A,i,A[i][j])\n",
    "        parenthesis(A,A[i][j] +1 ,j)\n",
    "        print(\")\", end= \"\")\n",
    "        \n",
    "def Matrix_chain_Dynamic(A,n):\n",
    "    array  = [[0 for x in range(n)] for x in range(n)]\n",
    "    array_s  = [[0 for x in range(n)] for x in range(n)]\n",
    "    for i in range(1, n):\n",
    "        array[i][i] = 0\n",
    "    \n",
    "    for L in range(2, n):\n",
    "        for i in range(1, n-L + 1):\n",
    "            j = i + L-1\n",
    "            array[i][j] = sys.maxsize\n",
    "            for k in range(i, j):          \n",
    "                q = array[i][k] + array[k + 1][j] + A[i-1]*A[k]*A[j]\n",
    "                if q < array[i][j]:\n",
    "                    array_s[i][j] = k\n",
    "                    array[i][j] = q\n",
    "    \n",
    "    \n",
    "    return array[1][n-1]\n",
    "\n",
    "\n",
    "A = [25,15,20,30,45,5,10]\n",
    "n = len(A) \n",
    "# parenthesis(array_s,0,n-1)\n",
    "# print(\"\\n Optimal Number of Multiplication is :\", array_s[0],[n - 1])\n",
    "print(\"\\n Matrix Chain Multiplication using Dynamic Programming: \",Matrix_chain_Dynamic(A,n))\n"
   ]
  },
  {
   "cell_type": "code",
   "execution_count": 115,
   "id": "72fe828b",
   "metadata": {},
   "outputs": [
    {
     "name": "stdout",
     "output_type": "stream",
     "text": [
      "Minimum number of multiplications is 14375\n"
     ]
    }
   ],
   "source": [
    "# 3. Memoization\n",
    "\n",
    "A = [[-1 for i in range(100)] for j in range(100)]\n",
    " \n",
    "\n",
    "def Matrix_chain_Memoised(p, i, j):\n",
    "    if(i == j):\n",
    "        return 0\n",
    "     \n",
    "    if(A[i][j] != -1):\n",
    "        return A[i][j]\n",
    "     \n",
    "    A[i][j] = sys.maxsize\n",
    "     \n",
    "    for k in range(i,j):\n",
    "        A[i][j] = min(A[i][j], Matrix_chain_Memoised(p, i, k) + Matrix_chain_Memoised(p, k + 1, j)+ p[i - 1] * p[k] * p[j])\n",
    "#         print(A[i][j])\n",
    "    return A[i][j]\n",
    " \n",
    "def Matrix_chain(p):\n",
    "    i = 1\n",
    "    j = n - 1   \n",
    "    return Matrix_chain_Memoised(p, i, j)\n",
    "\n",
    "\n",
    "Y = [25,15,20,30,45,5,10]\n",
    "# n = len(Y)\n",
    "print(\"Minimum number of multiplications is\",Matrix_chain(Y))\n"
   ]
  },
  {
   "cell_type": "code",
   "execution_count": 119,
   "id": "5941c587",
   "metadata": {},
   "outputs": [
    {
     "name": "stdout",
     "output_type": "stream",
     "text": [
      "Matrix Chain Multipliaction Using Brute Force takes 0.000086s to run for size 5\n",
      "Matrix Chain Multipliaction Using Dynamic Programming takes 0.000054s to run for size 5\n",
      "Matrix Chain Multipliaction Using Memoization takes 0.000017s to run for size 5\n",
      "\n",
      "Matrix Chain Multipliaction Using Brute Force takes 0.000667s to run for size 7\n",
      "Matrix Chain Multipliaction Using Dynamic Programming takes 0.000081s to run for size 7\n",
      "Matrix Chain Multipliaction Using Memoization takes 0.000002s to run for size 7\n",
      "\n",
      "Matrix Chain Multipliaction Using Brute Force takes 0.005072s to run for size 9\n",
      "Matrix Chain Multipliaction Using Dynamic Programming takes 0.000124s to run for size 9\n",
      "Matrix Chain Multipliaction Using Memoization takes 0.000004s to run for size 9\n",
      "\n",
      "Matrix Chain Multipliaction Using Brute Force takes 0.028551s to run for size 11\n",
      "Matrix Chain Multipliaction Using Dynamic Programming takes 0.000180s to run for size 11\n",
      "Matrix Chain Multipliaction Using Memoization takes 0.000006s to run for size 11\n",
      "\n",
      "Matrix Chain Multipliaction Using Brute Force takes 0.150098s to run for size 13\n",
      "Matrix Chain Multipliaction Using Dynamic Programming takes 0.000149s to run for size 13\n",
      "Matrix Chain Multipliaction Using Memoization takes 0.000002s to run for size 13\n",
      "\n",
      "Matrix Chain Multipliaction Using Brute Force takes 1.251638s to run for size 15\n",
      "Matrix Chain Multipliaction Using Dynamic Programming takes 0.000208s to run for size 15\n",
      "Matrix Chain Multipliaction Using Memoization takes 0.000002s to run for size 15\n",
      "\n",
      "Matrix Chain Multipliaction Using Brute Force takes 11.082786s to run for size 17\n",
      "Matrix Chain Multipliaction Using Dynamic Programming takes 0.000340s to run for size 17\n",
      "Matrix Chain Multipliaction Using Memoization takes 0.000003s to run for size 17\n",
      "\n"
     ]
    },
    {
     "data": {
      "image/png": "[encoded data removed]",
      "text/plain": [
       "<Figure size 432x288 with 1 Axes>"
      ]
     },
     "metadata": {
      "needs_background": "light"
     },
     "output_type": "display_data"
    }
   ],
   "source": [
    "brute = []\n",
    "dynamicP = []\n",
    "memoized = []\n",
    "size = 5\n",
    "li = []\n",
    "\n",
    "for i in range(1,8):\n",
    "    res = random.sample(range(1, 100), size)\n",
    "    li.append(len(res))\n",
    "    \n",
    "    start = time.time()\n",
    "    Matrix_chain_brute(res,0, len(res) - 1)\n",
    "    end = time.time()\n",
    "    brute.append(end - start)\n",
    "    print(\"Matrix Chain Multipliaction Using Brute Force takes {:f}s to run for size {:d}\".format(end-start,len(res)))\n",
    "    \n",
    "    start = time.time()\n",
    "    Matrix_chain_Dynamic(res,len(res))\n",
    "    end = time.time()\n",
    "    dynamicP.append(end-start)\n",
    "    print(\"Matrix Chain Multipliaction Using Dynamic Programming takes {:f}s to run for size {:d}\".format(end-start,len(res)))\n",
    "    \n",
    "    start = time.time()\n",
    "    Matrix_chain(res)\n",
    "    end = time.time()\n",
    "    memoized.append(end - start)\n",
    "    print(\"Matrix Chain Multipliaction Using Memoization takes {:f}s to run for size {:d}\".format(end-start,len(res)))\n",
    "    print()\n",
    "    size += 2\n",
    "\n",
    "\n",
    "plt.plot(li, time_brute, color = 'green', label = 'Brute Force')\n",
    "plt.legend()\n",
    "\n",
    "plt.plot(li, time_BottomUP, color = 'blue', label = 'Dynamic Programing')\n",
    "plt.legend()\n",
    "\n",
    "plt.plot(li, time_Memoized, color = 'red', label = 'Memoized')\n",
    "plt.legend()\n",
    "\n",
    "plt.xlabel('Input Size')\n",
    "plt.ylabel('Running Time of Algorithm')\n",
    "plt.title('Matrix Chain Multiplication')\n",
    "plt.show()"
   ]
  },
  {
   "cell_type": "markdown",
   "id": "fa0900ab",
   "metadata": {},
   "source": [
    "## Problem 4: Longest Common Sub-sequence (LCS) Problem\n",
    "\n",
    "Implement a Python program to solve LCS problem using dynamic programming. Run your\n",
    "program to find the best sequence alignment between DNA strings. Show your results.\n",
    "Longest Common Sub-sequence (LCS) problem: Given two character strings over some\n",
    "alphabet, find a longest string that is a sub-sequence of given two strings.\n",
    "Data source: https://www.ncbi.nlm.nih.gov/genbank/\n",
    "\n",
    "### Solution:"
   ]
  },
  {
   "cell_type": "code",
   "execution_count": 121,
   "id": "d2ac7e52",
   "metadata": {},
   "outputs": [
    {
     "name": "stdout",
     "output_type": "stream",
     "text": [
      "41\n"
     ]
    }
   ],
   "source": [
    "def lcs(s1,s2):\n",
    "    x = len(s1)\n",
    "    y = len(s2)\n",
    "#     print (x)\n",
    "#     print (y)\n",
    "    array_lcs = [[0 for col in range(y+1)] for row in range(x+1)]\n",
    "\n",
    "    for i in range(x+1):\n",
    "        for j in range(y+1):\n",
    "            if i ==0 or j ==0:\n",
    "                array_lcs[i][j]= 0\n",
    "            elif s1[i-1]==s2[j-1]:\n",
    "                array_lcs[i][j] = 1 + array_lcs[i-1][j-1]\n",
    "            else:\n",
    "                array_lcs[i][j] = max(array_lcs[i][j-1],array_lcs[i-1][j])\n",
    "    \n",
    "    subseq = []\n",
    "\n",
    "    for i in range(1,x+1):\n",
    "        for j in range(1,y+1):\n",
    "            \n",
    "            if array_lcs[i][j] == (array_lcs[i-1][j-1] + 1) and array_lcs[i][j]> 0 and array_lcs[i][j] != array_lcs[i-1][j] and array_lcs[i][j] != array_lcs[i][j-1] :\n",
    "                \n",
    "                subseq.append(s1[i-1])\n",
    "                \n",
    "    #     print(''.join(subseq))\n",
    "   \n",
    "\n",
    "    return array_lcs[x][y]\n",
    "    \n",
    "    \n",
    "\n",
    "\n",
    "\n",
    "# source : https://ftp.ncbi.nlm.nih.gov/genbank/  \n",
    "# gbbct1.seq file\n",
    "seq1 = 'ppppgatcctccatatacaacggtatctccacctcaggtttagatctcaacaacggaaccattg'\n",
    "seq2 = 'qqppccgacatgagacagttaggtatcgtcgagagttacaagctaaaacgagcagtagtcagct'\n",
    "\n",
    "\n",
    "print(lcs(seq1,seq2))"
   ]
  },
  {
   "cell_type": "code",
   "execution_count": null,
   "id": "6525e53b",
   "metadata": {},
   "outputs": [],
   "source": []
  }
 ],
 "metadata": {
  "kernelspec": {
   "display_name": "Python 3",
   "language": "python",
   "name": "python3"
  },
  "language_info": {
   "codemirror_mode": {
    "name": "ipython",
    "version": 3
   },
   "file_extension": ".py",
   "mimetype": "text/x-python",
   "name": "python",
   "nbconvert_exporter": "python",
   "pygments_lexer": "ipython3",
   "version": "3.8.8"
  }
 },
 "nbformat": 4,
 "nbformat_minor": 5
}
