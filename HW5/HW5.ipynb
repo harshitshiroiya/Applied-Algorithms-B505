{
 "cells": [
  {
   "cell_type": "markdown",
   "id": "6596ef4b",
   "metadata": {},
   "source": [
    "## Assignment 5"
   ]
  },
  {
   "cell_type": "markdown",
   "id": "ecdab95f",
   "metadata": {},
   "source": [
    "### Name : Harshit Shiroiya\n",
    "### Email: hshiroiy@iu.edu"
   ]
  },
  {
   "cell_type": "markdown",
   "id": "417c6448",
   "metadata": {},
   "source": [
    "This work is solely mine although I have discussed the solution with my paried programming partner Mahadevan Iyer (mahiyer)"
   ]
  },
  {
   "cell_type": "markdown",
   "id": "1dfc4831",
   "metadata": {},
   "source": [
    "## Problem 1: Pattern-matching: The brute-force\n",
    "### Problem 1.1: The brute-force pattern-matching algorithm [10 pt.]\n",
    "Describe a text D and a pattern P such that the brute-force pattern-matching algorithm runs in\n",
    "Ω(dp) time.The lengths of D and P are d and p, respectively."
   ]
  },
  {
   "cell_type": "code",
   "execution_count": 1,
   "id": "f2a58a79",
   "metadata": {},
   "outputs": [],
   "source": [
    "def brute_force(T,P):\n",
    "    count=0\n",
    "    t,p=len(T),len(P)\n",
    "    for i in range(t-p+1):\n",
    "        k=0\n",
    "        while k<p:      \n",
    "            if T[i+k]==P[k]:\n",
    "                k+=1\n",
    "                count+=1\n",
    "            else: \n",
    "                count+=1\n",
    "                break\n",
    "            if k==p:         \n",
    "                return i,count\n",
    "    return -1,count"
   ]
  },
  {
   "cell_type": "code",
   "execution_count": 2,
   "id": "449fb3b5",
   "metadata": {},
   "outputs": [
    {
     "name": "stdout",
     "output_type": "stream",
     "text": [
      "(6, 21)\n"
     ]
    }
   ],
   "source": [
    "a='aaaaaaaae'\n",
    "b='aae'\n",
    "print(brute_force(a,b))"
   ]
  },
  {
   "cell_type": "markdown",
   "id": "f0307007",
   "metadata": {},
   "source": [
    "In this example above there are 21 comparisons taking place which is equal to (t-p+1)*p where p is the length of the pattern, t is the length of the text. In the above example where the pattern is 'aae' and the text is 'aaaaaaaae' there are (9-3+1)*3=21 cimparisons taking place. In this particular example the algorithm will perform 3 comparisons for each character in the text (the first two character will match but the third wont) until it reaches 6th index where it will do three comparison and return the index 6 where the pattern starts. Here runtime will be O(tp - p^2 +p). As the size of text grows larger we can igonre the terms p^2 and p and hence we can say that in the above case the runtime of the brute fore will be Ω(tp)"
   ]
  },
  {
   "cell_type": "markdown",
   "id": "dbc4f8f3",
   "metadata": {},
   "source": [
    "## Problem 1.2: Python’s str class and pattern-matching [20 pt]\n",
    "In this part, you are asked to modify three pattern matching programs given to you (See appendix). Run your modified programs for varying-length patterns and show your results.\n",
    "The count method in Python’s str class takes a text D and a pattern P and returns the\n",
    "maximum number of non-overlapping occurrences of a P within D. As an example ‘cdcdcdcdc’.count(‘cdc’) returns 2.\n",
    "1. Modify the brute-force pattern-matching to return non-overlapping occurrences of a P\n",
    "within D.\n"
   ]
  },
  {
   "cell_type": "code",
   "execution_count": 3,
   "id": "2619eb58",
   "metadata": {},
   "outputs": [],
   "source": [
    "def find_brute(T, P):\n",
    "    n, m = len(T), len(P)\n",
    "    count = 0\n",
    "    i = 0\n",
    "    while (i < n - m + 1):\n",
    "        k = 0\n",
    "        while k < m and T[i + k] == P[k]:\n",
    "            k += 1            \n",
    "        if k == m:\n",
    "            count += 1\n",
    "            i += k\n",
    "        else:\n",
    "            i += 1\n",
    "    return count"
   ]
  },
  {
   "cell_type": "code",
   "execution_count": 4,
   "id": "578f253a",
   "metadata": {},
   "outputs": [
    {
     "name": "stdout",
     "output_type": "stream",
     "text": [
      "Text: cdcdcdcdc  Pattern: cdc\n",
      "Non-overlapping occurrences using Brute Force = 2\n",
      "Number of non-overlapping occurrences using in-built function = 2\n",
      "Text: aaaaaaaaaaaaaaaaaaa  Pattern: aaa\n",
      "Non-overlapping occurrences using Brute Force = 6\n",
      "Number of non-overlapping occurrences using in-built function = 6\n"
     ]
    }
   ],
   "source": [
    "inputs = [\"cdcdcdcdc\", \"cdc\", \"aaaaaaaaaaaaaaaaaaa\", \"aaa\"]\n",
    "for i in range(0, len(inputs) - 1, 2):\n",
    "    val = 0\n",
    "    T = inputs[i]\n",
    "    P = inputs[i + 1]\n",
    "    print('Text:',T+'  Pattern:',P)\n",
    "    val += 1\n",
    "    count = find_brute (T, P)\n",
    "    print('Non-overlapping occurrences using Brute Force =',count)\n",
    "    print('Number of non-overlapping occurrences using in-built function =',T.count(P))"
   ]
  },
  {
   "cell_type": "markdown",
   "id": "fe8a8e8f",
   "metadata": {},
   "source": [
    "2. Similar to the previous question (Problem 1.2.1), do the same on the Boyer-Moore program."
   ]
  },
  {
   "cell_type": "code",
   "execution_count": 5,
   "id": "70178df5",
   "metadata": {},
   "outputs": [],
   "source": [
    "# Boyer - Moore\n",
    "def find_boyer_moore(T, P):\n",
    "    n, m = len(T), len(P)\n",
    "    count = 0\n",
    "    if m == 0:\n",
    "        return 0  \n",
    "    last = {}\n",
    "    for k in range(m):\n",
    "        last[P[k]] = k\n",
    "    i = m - 1\n",
    "    k = m - 1\n",
    "    \n",
    "    while i < n:\n",
    "        if T[i] == P[k]:\n",
    "            if k == 0:\n",
    "                count += 1\n",
    "                k = m-1\n",
    "                i = i + 2*m -1 \n",
    "            else:\n",
    "                i -= 1\n",
    "                k -= 1\n",
    "                \n",
    "        else:\n",
    "            j = last.get(T[i], -1)\n",
    "            i += m - min(k, j + 1)\n",
    "            k = m - 1\n",
    "            \n",
    "    return count"
   ]
  },
  {
   "cell_type": "code",
   "execution_count": 6,
   "id": "57e7f40d",
   "metadata": {},
   "outputs": [
    {
     "name": "stdout",
     "output_type": "stream",
     "text": [
      "Text: cdcdcdcdc  Pattern: cdc\n",
      "Non-overlapping occurrences using Brute Force = 2\n",
      "Number of non-overlapping occurrences using in-built function = 2\n",
      "Text: aaaaaaaaaaaaaaaaaaa  Pattern: aaa\n",
      "Non-overlapping occurrences using Brute Force = 6\n",
      "Number of non-overlapping occurrences using in-built function = 6\n"
     ]
    }
   ],
   "source": [
    "inputs = [\"cdcdcdcdc\", \"cdc\", \"aaaaaaaaaaaaaaaaaaa\", \"aaa\"]\n",
    "for i in range(0, len(inputs) - 1, 2):\n",
    "    T = inputs[i]\n",
    "    P = inputs[i + 1]\n",
    "    print('Text:',T+'  Pattern:',P)\n",
    "    count = find_boyer_moore(T, P)\n",
    "    print('Non-overlapping occurrences using Brute Force =',count)\n",
    "    print('Number of non-overlapping occurrences using in-built function =',T.count(P))"
   ]
  },
  {
   "cell_type": "markdown",
   "id": "f08e8d34",
   "metadata": {},
   "source": [
    "3. Similar to problem 1.2.1, modify the KMP program"
   ]
  },
  {
   "cell_type": "code",
   "execution_count": 7,
   "id": "dafe8df2",
   "metadata": {},
   "outputs": [],
   "source": [
    "# KMP failure function\n",
    "def compute_kmp_fail1(P):\n",
    "    m = len(P)\n",
    "    fail = [0] * m\n",
    "    j = 1\n",
    "    k = 0\n",
    "    while j < m:\n",
    "        if P[j] == P[k]:\n",
    "            fail[j] = k+1\n",
    "            j += 1\n",
    "            k += 1\n",
    "        elif k > 0:\n",
    "            k = fail[k-1]\n",
    "        else:\n",
    "            j += 1\n",
    "    return (fail)"
   ]
  },
  {
   "cell_type": "code",
   "execution_count": 8,
   "id": "0f7cbeb9",
   "metadata": {},
   "outputs": [],
   "source": [
    "# KMP\n",
    "def find_kmp(T, P):\n",
    "    n, m = len(T), len(P)\n",
    "\n",
    "    if m == 0:\n",
    "        return 0\n",
    "    \n",
    "    fail = compute_kmp_fail1(P)\n",
    "    \n",
    "    count = 0\n",
    "    j = 0\n",
    "    k = 0\n",
    "    while j < n:\n",
    "        if T[j] == P[k]:\n",
    "            if k == m-1:\n",
    "                count +=1\n",
    "                k = 0\n",
    "                j+=1\n",
    "            j += 1\n",
    "            k += 1\n",
    "        elif k > 0:\n",
    "            k = fail[k-1]\n",
    "        else:\n",
    "            j += 1\n",
    "    if count>0:\n",
    "        return count\n",
    "    return -1"
   ]
  },
  {
   "cell_type": "code",
   "execution_count": 9,
   "id": "3f8c83fc",
   "metadata": {},
   "outputs": [
    {
     "name": "stdout",
     "output_type": "stream",
     "text": [
      "Text: cdcdcdcdc  Pattern: cdc\n",
      "Non-overlapping occurrences using Brute Force = 2\n",
      "Number of non-overlapping occurrences using in-built function = 2\n",
      "Text: aaaaaaaaaaaaaaaaaaa  Pattern: aaa\n",
      "Non-overlapping occurrences using Brute Force = 6\n",
      "Number of non-overlapping occurrences using in-built function = 6\n"
     ]
    }
   ],
   "source": [
    "inputs = [\"cdcdcdcdc\", \"cdc\", \"aaaaaaaaaaaaaaaaaaa\", \"aaa\"]\n",
    "for i in range(0, len(inputs) -1 , 2):\n",
    "    T = inputs[i]\n",
    "    P = inputs[i + 1]\n",
    "    print('Text:',T+'  Pattern:',P)\n",
    "    count = find_kmp(T, P)\n",
    "    print('Non-overlapping occurrences using Brute Force =',count)\n",
    "    print('Number of non-overlapping occurrences using in-built function =',T.count(P))"
   ]
  },
  {
   "cell_type": "markdown",
   "id": "cc5453b9",
   "metadata": {},
   "source": [
    "## Problem 2: Experimental Analysis of Pattern-Matching Algorithms\n",
    "Perform an experimental analysis of pattern matching algorithms in terms of:\n",
    "\n",
    "1. Number of character comparison: Perform an experimental analysis of the efficiency of\n",
    "the brute-force, the KMP and Boyer-Moore pattern matching algorithms for varying-length\n",
    "patterns.\n",
    "\n",
    "2. Relative speed comparison: Perform an experimental comparison of the brute-force, KMP,\n",
    "and Boyer-Moore pattern-matching algorithms. Run each algorithm against large text documents using varying-length patterns and report the relative running times."
   ]
  },
  {
   "cell_type": "markdown",
   "id": "e1839d3c",
   "metadata": {},
   "source": [
    "Brute Force"
   ]
  },
  {
   "cell_type": "code",
   "execution_count": 10,
   "id": "9a1c8e5c",
   "metadata": {},
   "outputs": [],
   "source": [
    "def brute_force(T, P):\n",
    "    t = len(T)\n",
    "    p = len(P)\n",
    "    Count = 0\n",
    "    \n",
    "    for i in range(t - p + 1):\n",
    "        k = 0\n",
    "        if T[i+k] != P[k]:\n",
    "            Count += 1\n",
    "        while k < p and T[i+k] == P[k]:\n",
    "            Count += 1\n",
    "            k += 1\n",
    "        if k == p:\n",
    "            return (i,Count)\n",
    "    return (-1, Count)"
   ]
  },
  {
   "cell_type": "code",
   "execution_count": 11,
   "id": "b8165a70",
   "metadata": {},
   "outputs": [
    {
     "name": "stdout",
     "output_type": "stream",
     "text": [
      "(16, 35)\n"
     ]
    }
   ],
   "source": [
    "print(brute_force(\"aaaaaaaaaaaaaaaaaae\", \"aae\"))"
   ]
  },
  {
   "cell_type": "markdown",
   "id": "bc37975d",
   "metadata": {},
   "source": [
    "Boyer - Moore"
   ]
  },
  {
   "cell_type": "code",
   "execution_count": 12,
   "id": "99f9f2e9",
   "metadata": {},
   "outputs": [],
   "source": [
    "def Boyer_Moore(T, P):\n",
    "    n = len(T)\n",
    "    m = len(P)\n",
    "    \n",
    "    if m == 0:\n",
    "        return 0\n",
    "    last = {}\n",
    "    for k in range(m):\n",
    "        last[P[k]] = k\n",
    "    \n",
    "    i = m-1\n",
    "    k = m-1\n",
    "    count = 0\n",
    "    while i < n:\n",
    "        count += 1\n",
    "        if T[i] == P[k]:\n",
    "            if k == 0:\n",
    "                return (i, count)\n",
    "            else:\n",
    "                i -= 1\n",
    "                k -= 1\n",
    "        else:\n",
    "            j = last.get(T[i], -1)\n",
    "            i += m - min(k, j+1)\n",
    "            k = m-1\n",
    "    return (-1, count)"
   ]
  },
  {
   "cell_type": "code",
   "execution_count": 13,
   "id": "8281fdb5",
   "metadata": {},
   "outputs": [
    {
     "name": "stdout",
     "output_type": "stream",
     "text": [
      "(16, 19)\n"
     ]
    }
   ],
   "source": [
    "print(Boyer_Moore(\"aaaaaaaaaaaaaaaaaae\", \"aae\"))"
   ]
  },
  {
   "cell_type": "markdown",
   "id": "9957c7d9",
   "metadata": {},
   "source": [
    "KMP"
   ]
  },
  {
   "cell_type": "code",
   "execution_count": 14,
   "id": "427a14e0",
   "metadata": {},
   "outputs": [],
   "source": [
    "def compute_kmp_fail(P, count):\n",
    "    m = len(P)\n",
    "    fail = [0] * m\n",
    "    j = 1\n",
    "    k = 0\n",
    "    while j < m:\n",
    "        if P[j] == P[k]:\n",
    "            count += 1\n",
    "            fail[j] = k+1\n",
    "            j += 1\n",
    "            k += 1\n",
    "        elif k > 0:\n",
    "            k = fail[k-1]\n",
    "        else:\n",
    "            j += 1\n",
    "    return (fail, count)"
   ]
  },
  {
   "cell_type": "code",
   "execution_count": 15,
   "id": "1de3703a",
   "metadata": {},
   "outputs": [],
   "source": [
    "def find_kmp(T, P):\n",
    "    n, m = len(T), len(P)\n",
    "    count = 0\n",
    "    if m == 0:\n",
    "        return 0\n",
    "#     print(compute_kmp_fail(P, count))\n",
    "    fail, count = compute_kmp_fail(P, count)\n",
    "    j = 0\n",
    "    k = 0\n",
    "    count = 0\n",
    "    while j < n:\n",
    "        count += 1\n",
    "        if T[j] == P[k]:\n",
    "            if k == m-1:\n",
    "                return (j-m+1, count)\n",
    "            j += 1\n",
    "            k += 1\n",
    "        elif k > 0:\n",
    "            k = fail[k-1]\n",
    "        else:\n",
    "            j += 1\n",
    "    return (-1, count)"
   ]
  },
  {
   "cell_type": "code",
   "execution_count": 16,
   "id": "4b52dbd4",
   "metadata": {},
   "outputs": [
    {
     "name": "stdout",
     "output_type": "stream",
     "text": [
      "(16, 35)\n"
     ]
    }
   ],
   "source": [
    "print(find_kmp(\"aaaaaaaaaaaaaaaaaae\", \"aae\"))"
   ]
  },
  {
   "cell_type": "code",
   "execution_count": 17,
   "id": "987a309d",
   "metadata": {},
   "outputs": [],
   "source": [
    "def comp(T, P):\n",
    "    start = time.time()\n",
    "    idx, count = brute_force(T, P)\n",
    "    end = time.time()\n",
    "    brute_count.append(count)\n",
    "    brute.append(end-start)\n",
    "    \n",
    "    start = time.time()\n",
    "    idx, count = Boyer_Moore(T, P)\n",
    "    end = time.time()\n",
    "    boyer_count.append(count)\n",
    "    boyer.append(end-start)\n",
    "\n",
    "    start = time.time()\n",
    "    idx, count = find_kmp(T, P)\n",
    "    end = time.time()\n",
    "    kmp_count.append(count)\n",
    "    kmp_1.append(end-start)"
   ]
  },
  {
   "cell_type": "code",
   "execution_count": 18,
   "id": "6dbd9663",
   "metadata": {},
   "outputs": [],
   "source": [
    "import random\n",
    "import string\n",
    "import time\n",
    "l = \"XYZW\"\n",
    "l = string.ascii_letters\n",
    "\n",
    "def generate_random_strings(letters, size):\n",
    "    return ''.join(random.choice(letters) for i in range(size))\n",
    "\n",
    "random_string = generate_random_strings(l, 10**5)"
   ]
  },
  {
   "cell_type": "code",
   "execution_count": 19,
   "id": "8f3987ba",
   "metadata": {},
   "outputs": [],
   "source": [
    "input_string = []\n",
    "brute_count = []\n",
    "boyer_count = []\n",
    "kmp_count = []\n",
    "\n",
    "brute = []\n",
    "boyer = []\n",
    "kmp_1 = []\n",
    "\n",
    "for i in range(1000,100000,1000):\n",
    "    input_string.append(i)\n",
    "    pattern = generate_random_strings(\"ABCDEFCFF\", i)\n",
    "    test_string = random_string + pattern\n",
    "    comp(test_string, pattern)"
   ]
  },
  {
   "cell_type": "code",
   "execution_count": 20,
   "id": "9eab5023",
   "metadata": {},
   "outputs": [],
   "source": [
    "import matplotlib.pyplot as plt\n",
    "def plot(bf, bm, kmp, inp):\n",
    "    plt.plot(input_string, brute, label = \"Brute Force\")\n",
    "    plt.plot(input_string, boyer, label = \"Boyer More\")\n",
    "    plt.plot(input_string, kmp_1, label = \"KMP\")\n",
    "    plt.xlabel(\"Input length\")\n",
    "    plt.ylabel(\"Execution time\")\n",
    "    plt.legend()\n",
    "    plt.show()"
   ]
  },
  {
   "cell_type": "markdown",
   "id": "d8cd681b",
   "metadata": {},
   "source": [
    "### Character comparison in three algorithms"
   ]
  },
  {
   "cell_type": "code",
   "execution_count": 21,
   "id": "e8ce94ca",
   "metadata": {},
   "outputs": [
    {
     "data": {
      "image/png": "[encoded data removed]",
      "text/plain": [
       "<Figure size 432x288 with 1 Axes>"
      ]
     },
     "metadata": {
      "needs_background": "light"
     },
     "output_type": "display_data"
    }
   ],
   "source": [
    "plt.plot(input_string, brute_count, label = \"Brute Force\")\n",
    "plt.plot(input_string, boyer_count, label = \"Boyer More\")\n",
    "plt.plot(input_string, kmp_count, label = \"KMP\")\n",
    "plt.xlabel(\"Input length\")\n",
    "plt.ylabel(\"Number of comparisons\")\n",
    "plt.legend()\n",
    "plt.show()"
   ]
  },
  {
   "cell_type": "markdown",
   "id": "2caed7e6",
   "metadata": {},
   "source": [
    "From the above graph we see that the number of comparisons made in Brute force and KMP is almost similar. But Boyer Moore makes far fewer comparisons than both Brute force and KMP "
   ]
  },
  {
   "cell_type": "markdown",
   "id": "ffd0438c",
   "metadata": {},
   "source": [
    "### Execution time comparison"
   ]
  },
  {
   "cell_type": "code",
   "execution_count": 22,
   "id": "68f8984b",
   "metadata": {},
   "outputs": [
    {
     "data": {
      "image/png": "[encoded data removed]",
      "text/plain": [
       "<Figure size 432x288 with 1 Axes>"
      ]
     },
     "metadata": {
      "needs_background": "light"
     },
     "output_type": "display_data"
    }
   ],
   "source": [
    "plot(brute, boyer, kmp_1, input_string)"
   ]
  },
  {
   "cell_type": "markdown",
   "id": "13bd6055",
   "metadata": {},
   "source": [
    "From the above graph we see that brute force performs better when the length of the input is greater. For smaller inputs KMP outperforms brute force.\n",
    "On the other hand Boyer Moore outperforms both KMP as well as brute force"
   ]
  },
  {
   "cell_type": "code",
   "execution_count": 23,
   "id": "7aa3f529",
   "metadata": {},
   "outputs": [],
   "source": [
    "import sys\n",
    "import os\n",
    "import re\n",
    "import math\n",
    "import time\n",
    "import matplotlib.pyplot as plt\n",
    "import random"
   ]
  },
  {
   "cell_type": "markdown",
   "id": "8b0f20a8",
   "metadata": {},
   "source": [
    "## Problem 3: Matrix-chain Multiplication\n",
    "\n",
    "The matrix-chain multiplication problem: Given a chain of < D1, D2, . . . , Dn > of n matrices fully\n",
    "parenthesize the product < D1 ·D2 ···Dn > in a way so that the number of scalar multiplications\n",
    "is minimized. Each Di has a pi−1 × pi dimension and i = 1, 2, . . . , n.\n",
    "1. The Brute-Force: [10 pt.]: Implement a Python program to solve the matrix-chain multipli-\n",
    "cation problem by the brute force algorithm.\n",
    "2. Bottom-up Dynamic Programming [20 pt.]: Implement a Python program to solve the\n",
    "matrix-chain multiplication problem using bottom-up dynamic programming approach.\n",
    "3. Dynamic Programming with Memoization [Extra Credit, 10 pt.]: Implement a Python pro-\n",
    "gram to solve the matrix-chain multiplication problem using dynamic programming with\n",
    "memoization."
   ]
  },
  {
   "cell_type": "code",
   "execution_count": 24,
   "id": "a2e5d744",
   "metadata": {},
   "outputs": [
    {
     "name": "stdout",
     "output_type": "stream",
     "text": [
      "Matrix Chain Multiplication using Brute Force:  14375\n"
     ]
    }
   ],
   "source": [
    "\n",
    "# 1. Brute Force\n",
    "def Matrix_chain_brute(A,i,j):\n",
    "    if i == j:\n",
    "        return 0\n",
    "    temp = sys.maxsize\n",
    "    for k in range(i, j):\n",
    "        count = (Matrix_chain_brute(A, i, k) + Matrix_chain_brute(A, k + 1, j)+ A[i-1] * A[k] * A[j])\n",
    "        if count < temp:\n",
    "            temp = count\n",
    "    return temp\n",
    "\n",
    "\n",
    "A = [25,15,20,30,45,5,10]\n",
    "n = len(A) - 1\n",
    "print(\"Matrix Chain Multiplication using Brute Force: \",Matrix_chain_brute(A,1,n))\n"
   ]
  },
  {
   "cell_type": "code",
   "execution_count": 25,
   "id": "c030a219",
   "metadata": {},
   "outputs": [
    {
     "name": "stdout",
     "output_type": "stream",
     "text": [
      "\n",
      " Matrix Chain Multiplication using Dynamic Programming:  14375\n"
     ]
    }
   ],
   "source": [
    "# 2. Bottom Up Dynamic Programming\n",
    "def parenthesis(A,i,j):\n",
    "    if i==j:\n",
    "        print(\"A{0}\".format(i), end= \"\") \n",
    "    else :\n",
    "        print(\"(\", end= \"\")\n",
    "        parenthesis(A,i,A[i][j])\n",
    "        parenthesis(A,A[i][j] +1 ,j)\n",
    "        print(\")\", end= \"\")\n",
    "        \n",
    "def Matrix_chain_Dynamic(A,n):\n",
    "    array  = [[0 for x in range(n)] for x in range(n)]\n",
    "    array_s  = [[0 for x in range(n)] for x in range(n)]\n",
    "    for i in range(1, n):\n",
    "        array[i][i] = 0\n",
    "    \n",
    "    for L in range(2, n):\n",
    "        for i in range(1, n-L + 1):\n",
    "            j = i + L-1\n",
    "            array[i][j] = sys.maxsize\n",
    "            for k in range(i, j):          \n",
    "                q = array[i][k] + array[k + 1][j] + A[i-1]*A[k]*A[j]\n",
    "                if q < array[i][j]:\n",
    "                    array_s[i][j] = k\n",
    "                    array[i][j] = q\n",
    "    \n",
    "    \n",
    "    return array[1][n-1]\n",
    "\n",
    "\n",
    "A = [25,15,20,30,45,5,10]\n",
    "n = len(A) \n",
    "# parenthesis(array_s,0,n-1)\n",
    "# print(\"\\n Optimal Number of Multiplication is :\", array_s[0],[n - 1])\n",
    "print(\"\\n Matrix Chain Multiplication using Dynamic Programming: \",Matrix_chain_Dynamic(A,n))\n"
   ]
  },
  {
   "cell_type": "code",
   "execution_count": 26,
   "id": "e0c7e48f",
   "metadata": {},
   "outputs": [
    {
     "name": "stdout",
     "output_type": "stream",
     "text": [
      "Minimum number of multiplications is 14375\n"
     ]
    }
   ],
   "source": [
    "# 3. Memoization\n",
    "\n",
    "A = [[-1 for i in range(100)] for j in range(100)]\n",
    " \n",
    "\n",
    "def Matrix_chain_Memoised(p, i, j):\n",
    "    if(i == j):\n",
    "        return 0\n",
    "     \n",
    "    if(A[i][j] != -1):\n",
    "        return A[i][j]\n",
    "     \n",
    "    A[i][j] = sys.maxsize\n",
    "     \n",
    "    for k in range(i,j):\n",
    "        A[i][j] = min(A[i][j], Matrix_chain_Memoised(p, i, k) + Matrix_chain_Memoised(p, k + 1, j)+ p[i - 1] * p[k] * p[j])\n",
    "#         print(A[i][j])\n",
    "    return A[i][j]\n",
    " \n",
    "def Matrix_chain(p):\n",
    "    i = 1\n",
    "    j = n - 1   \n",
    "    return Matrix_chain_Memoised(p, i, j)\n",
    "\n",
    "# For this Problem we Referred https://www.geeksforgeeks.org/matrix-chain-multiplication-dp-8/\n",
    "Y = [25,15,20,30,45,5,10]\n",
    "# n = len(Y)\n",
    "print(\"Minimum number of multiplications is\",Matrix_chain(Y))\n"
   ]
  },
  {
   "cell_type": "code",
   "execution_count": 27,
   "id": "f6719e7e",
   "metadata": {},
   "outputs": [
    {
     "name": "stdout",
     "output_type": "stream",
     "text": [
      "Matrix Chain Multipliaction Using Brute Force takes 0.000027s to run for size 5\n",
      "Matrix Chain Multipliaction Using Dynamic Programming takes 0.000019s to run for size 5\n",
      "Matrix Chain Multipliaction Using Memoization takes 0.000002s to run for size 5\n",
      "\n",
      "Matrix Chain Multipliaction Using Brute Force takes 0.000199s to run for size 7\n",
      "Matrix Chain Multipliaction Using Dynamic Programming takes 0.000030s to run for size 7\n",
      "Matrix Chain Multipliaction Using Memoization takes 0.000001s to run for size 7\n",
      "\n",
      "Matrix Chain Multipliaction Using Brute Force takes 0.001605s to run for size 9\n",
      "Matrix Chain Multipliaction Using Dynamic Programming takes 0.000054s to run for size 9\n",
      "Matrix Chain Multipliaction Using Memoization takes 0.000001s to run for size 9\n",
      "\n",
      "Matrix Chain Multipliaction Using Brute Force takes 0.014695s to run for size 11\n",
      "Matrix Chain Multipliaction Using Dynamic Programming takes 0.000096s to run for size 11\n",
      "Matrix Chain Multipliaction Using Memoization takes 0.000002s to run for size 11\n",
      "\n",
      "Matrix Chain Multipliaction Using Brute Force takes 0.129632s to run for size 13\n",
      "Matrix Chain Multipliaction Using Dynamic Programming takes 0.000142s to run for size 13\n",
      "Matrix Chain Multipliaction Using Memoization takes 0.000002s to run for size 13\n",
      "\n",
      "Matrix Chain Multipliaction Using Brute Force takes 1.169927s to run for size 15\n",
      "Matrix Chain Multipliaction Using Dynamic Programming takes 0.000210s to run for size 15\n",
      "Matrix Chain Multipliaction Using Memoization takes 0.000002s to run for size 15\n",
      "\n",
      "Matrix Chain Multipliaction Using Brute Force takes 10.495802s to run for size 17\n",
      "Matrix Chain Multipliaction Using Dynamic Programming takes 0.000309s to run for size 17\n",
      "Matrix Chain Multipliaction Using Memoization takes 0.000006s to run for size 17\n",
      "\n"
     ]
    },
    {
     "data": {
      "image/png": "[encoded data removed]",
      "text/plain": [
       "<Figure size 432x288 with 1 Axes>"
      ]
     },
     "metadata": {
      "needs_background": "light"
     },
     "output_type": "display_data"
    }
   ],
   "source": [
    "brute = []\n",
    "dynamicP = []\n",
    "memoized = []\n",
    "size = 5\n",
    "li = []\n",
    "\n",
    "for i in range(1,8):\n",
    "    res = random.sample(range(1, 100), size)\n",
    "    li.append(len(res))\n",
    "    \n",
    "    start = time.time()\n",
    "    Matrix_chain_brute(res,0, len(res) - 1)\n",
    "    end = time.time()\n",
    "    brute.append(end - start)\n",
    "    print(\"Matrix Chain Multipliaction Using Brute Force takes {:f}s to run for size {:d}\".format(end-start,len(res)))\n",
    "    \n",
    "    start = time.time()\n",
    "    Matrix_chain_Dynamic(res,len(res))\n",
    "    end = time.time()\n",
    "    dynamicP.append(end-start)\n",
    "    print(\"Matrix Chain Multipliaction Using Dynamic Programming takes {:f}s to run for size {:d}\".format(end-start,len(res)))\n",
    "    \n",
    "    start = time.time()\n",
    "    Matrix_chain(res)\n",
    "    end = time.time()\n",
    "    memoized.append(end - start)\n",
    "    print(\"Matrix Chain Multipliaction Using Memoization takes {:f}s to run for size {:d}\".format(end-start,len(res)))\n",
    "    print()\n",
    "    size += 2\n",
    "\n",
    "\n",
    "plt.plot(li, brute, color = 'green', label = 'Brute Force')\n",
    "plt.legend()\n",
    "\n",
    "plt.plot(li, dynamicP, color = 'blue', label = 'Dynamic Programing')\n",
    "plt.legend()\n",
    "\n",
    "plt.plot(li, memoized, color = 'red', label = 'Memoized')\n",
    "plt.legend()\n",
    "\n",
    "plt.xlabel('Input Size')\n",
    "plt.ylabel('Running Time of Algorithm')\n",
    "plt.title('Matrix Chain Multiplication')\n",
    "plt.show()"
   ]
  },
  {
   "cell_type": "markdown",
   "id": "47fcb613",
   "metadata": {},
   "source": [
    "While Comparing the three algorithm, We observed that Matrix Chain Multipliation when Applied with Dynamic Programming and Memoized Dynamic Programming gives the optimal Solution. While, Brute force takes a lot of time as compared to other two. Hence Both Dynamic and Memoized Dynamic Programming Algorithm are optimal for Matrix Chain Multipliation"
   ]
  },
  {
   "cell_type": "markdown",
   "id": "b4ea09dc",
   "metadata": {},
   "source": [
    "## Problem 4: Longest Common Sub-sequence (LCS) Problem\n",
    "\n",
    "Implement a Python program to solve LCS problem using dynamic programming. Run your\n",
    "program to find the best sequence alignment between DNA strings. Show your results.\n",
    "Longest Common Sub-sequence (LCS) problem: Given two character strings over some\n",
    "alphabet, find a longest string that is a sub-sequence of given two strings.\n",
    "Data source: https://www.ncbi.nlm.nih.gov/genbank/\n",
    "\n",
    "### Solution:"
   ]
  },
  {
   "cell_type": "code",
   "execution_count": 28,
   "id": "99b10ac3",
   "metadata": {},
   "outputs": [
    {
     "name": "stdout",
     "output_type": "stream",
     "text": [
      "The length of the Longest Common Sub-sequence =  39\n",
      "The Longest Common Sub-sequence =  cccataacaaggtatctcaggttaactaaaacgacattg\n"
     ]
    }
   ],
   "source": [
    "def lcs(s1,s2):\n",
    "    x = len(s1)\n",
    "    y = len(s2)\n",
    "\n",
    "    array_lcs =[[0]*(x+1) for _ in range(y+1)]\n",
    "    for i in range(1,y+1):\n",
    "        for j in range(1,x+1):\n",
    "          \n",
    "            if s1[j-1]==s2[i-1]:\n",
    "                array_lcs[i][j] = 1 + array_lcs[i-1][j-1]\n",
    "            else:\n",
    "                array_lcs[i][j] = max(array_lcs[i][j-1],array_lcs[i-1][j])\n",
    "    print(\"The length of the Longest Common Sub-sequence = \" ,array_lcs[x][y])\n",
    "    \n",
    "    \n",
    "    if array_lcs[y][x]>0:\n",
    "        subseq = \"\"\n",
    "        i=y\n",
    "        j=x\n",
    "        while i!=0 and j!=0:\n",
    "            if s1[j-1]==s2[i-1]:\n",
    "                subseq+=s1[j-1]\n",
    "                i-=1\n",
    "                j-=1\n",
    "            elif array_lcs[i-1][j]>=array_lcs[i][j-1]:\n",
    "                i-=1\n",
    "            else: \n",
    "                j-=1\n",
    "        print(\"The Longest Common Sub-sequence = \",subseq[::-1])\n",
    "    \n",
    "    else: print(\"No common Sub-Sequence found\")\n",
    "\n",
    "        \n",
    "text1 = \"gatcctccatatacaacggtatctccacctcaggtttagatctcaacaacggaaccattg\"\n",
    "text2 = \"ccgacatgagacagttaggtatcgtcgagagttacaagctaaaacgagcagtagtcagct\" \n",
    "lcs(text1,text2)\n",
    "\n"
   ]
  }
 ],
 "metadata": {
  "kernelspec": {
   "display_name": "Python 3",
   "language": "python",
   "name": "python3"
  },
  "language_info": {
   "codemirror_mode": {
    "name": "ipython",
    "version": 3
   },
   "file_extension": ".py",
   "mimetype": "text/x-python",
   "name": "python",
   "nbconvert_exporter": "python",
   "pygments_lexer": "ipython3",
   "version": "3.8.8"
  }
 },
 "nbformat": 4,
 "nbformat_minor": 5
}
