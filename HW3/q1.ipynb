{
 "cells": [
  {
   "cell_type": "code",
   "execution_count": 4,
   "id": "d636ffc8",
   "metadata": {},
   "outputs": [],
   "source": [
    "def f(*x, **y):\n",
    "    def s1(x): \n",
    "        s=0 \n",
    "        if x:\n",
    "            for i in x:\n",
    "                s += i\n",
    "        return s\n",
    "\n",
    "\n",
    "    def p1(x):\n",
    "        s=1\n",
    "        if x:\n",
    "            for i in x:\n",
    "                s *= i\n",
    "        return s\n",
    "\n",
    "    def rs1(x):\n",
    "        s=0 \n",
    "        x = map(lambda x: 1/x,x)\n",
    "        if x:\n",
    "            for i in x:\n",
    "                s += i\n",
    "        return s\n",
    "    if y[\"action\"] == \"sum\":\n",
    "        return s1(*x)\n",
    "    elif y[\"action\"] == \"prod\":\n",
    "        return p1(*x)\n",
    "    elif y[\"action\"] == \"reciprocal sum\":\n",
    "        return rs1(*x)\n",
    "    else:\n",
    "        return f\"bad argument: {y}\"\n",
    "\n",
    "        "
   ]
  },
  {
   "cell_type": "code",
   "execution_count": 7,
   "id": "2cd4586f",
   "metadata": {},
   "outputs": [
    {
     "name": "stdout",
     "output_type": "stream",
     "text": [
      "55\n",
      "3628800\n",
      "2.9289682539682538\n"
     ]
    }
   ],
   "source": [
    "\n",
    "xlst = [1,2,3,4,5,6,7,8,9,10]\n",
    "print(f(xlst, action = \"sum\"))\n",
    "print(f(xlst, action = \"prod\"))\n",
    "print(f(xlst, action = \"reciprocal sum\"))"
   ]
  },
  {
   "cell_type": "code",
   "execution_count": null,
   "id": "10a52ae2",
   "metadata": {},
   "outputs": [],
   "source": []
  }
 ],
 "metadata": {
  "kernelspec": {
   "display_name": "Python 3",
   "language": "python",
   "name": "python3"
  },
  "language_info": {
   "codemirror_mode": {
    "name": "ipython",
    "version": 3
   },
   "file_extension": ".py",
   "mimetype": "text/x-python",
   "name": "python",
   "nbconvert_exporter": "python",
   "pygments_lexer": "ipython3",
   "version": "3.8.8"
  }
 },
 "nbformat": 4,
 "nbformat_minor": 5
}
