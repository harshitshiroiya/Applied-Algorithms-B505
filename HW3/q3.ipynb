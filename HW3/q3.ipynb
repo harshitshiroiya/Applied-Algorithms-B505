{
 "cells": [
  {
   "cell_type": "code",
   "execution_count": 3,
   "id": "4cb1b77a",
   "metadata": {},
   "outputs": [],
   "source": [
    "class complex_:\n",
    "    def __init__(self , re=0, im=0):\n",
    "        self.re = re\n",
    "        self.im = im\n",
    "    \n",
    "    def get_re(self):\n",
    "        return self.re\n",
    "    \n",
    "    def get_im(self):\n",
    "        return self.im\n",
    "    \n",
    "    def __str__(self):\n",
    "        g=lambda x: '+' if x >= 0 else \"\"\n",
    "        return f\"({self.re}{g(self.im)}{self.im}i)\"\n",
    "    \n",
    "    def cadd(self, other):\n",
    "        new_re = self.get_re() + other.get_re()\n",
    "        new_im = self.get_im() + other.get_im()\n",
    "        return complex_(new_re, new_im)\n",
    "    \n",
    "    def __add__(self, other):\n",
    "        new_re = self.get_re() + other.get_re()\n",
    "        new_im = self.get_im() + other.get_im()\n",
    "        return complex_(new_re, new_im)\n",
    "    \n",
    "    def __mul__(self, other):\n",
    "        new_re = self.get_re() * other.get_re()\n",
    "        new_im = self.get_im() * other.get_im()\n",
    "        return complex_(new_re, new_im)\n",
    "    \n",
    "    \n",
    "\n",
    "        \n",
    "    "
   ]
  },
  {
   "cell_type": "code",
   "execution_count": 4,
   "id": "54c53de5",
   "metadata": {},
   "outputs": [
    {
     "name": "stdout",
     "output_type": "stream",
     "text": [
      "(1-3i)\n",
      "(-1+3i)\n",
      "(1+3i)\n",
      "(-1-3i)\n",
      "(0+0i)\n",
      "(1+81i)\n"
     ]
    }
   ],
   "source": [
    "w = complex_(1,-3)\n",
    "x = complex_(-1,3)\n",
    "y = complex_(1,3)\n",
    "z = complex_(-1,-3)\n",
    "\n",
    "print(w)\n",
    "print(x)\n",
    "print(y)\n",
    "print(z)\n",
    "# print(w.cadd(x).cadd(y).cadd(z))\n",
    "# print((1-3j) + (-1+3j) + (1+3j) + (-1-3j))\n",
    "print(w + x + y + z)\n",
    "\n",
    "# print((1-3j) * (-1+3j) * (1+3j) * (-1-3j))\n",
    "print(w * x * y * z)"
   ]
  },
  {
   "cell_type": "code",
   "execution_count": null,
   "id": "7bf1e7e9",
   "metadata": {},
   "outputs": [],
   "source": []
  }
 ],
 "metadata": {
  "kernelspec": {
   "display_name": "Python 3",
   "language": "python",
   "name": "python3"
  },
  "language_info": {
   "codemirror_mode": {
    "name": "ipython",
    "version": 3
   },
   "file_extension": ".py",
   "mimetype": "text/x-python",
   "name": "python",
   "nbconvert_exporter": "python",
   "pygments_lexer": "ipython3",
   "version": "3.8.8"
  }
 },
 "nbformat": 4,
 "nbformat_minor": 5
}
