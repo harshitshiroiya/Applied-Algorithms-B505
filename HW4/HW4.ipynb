{
 "cells": [
  {
   "cell_type": "markdown",
   "metadata": {
    "id": "kWVo_8PTMbHd"
   },
   "source": [
    "# **ASSIGNMENT 4**\n",
    "@Authors: **Harshit Shiroiya** (hshiroiy) and **Saurabh Gulati** (sagulati)"
   ]
  },
  {
   "cell_type": "markdown",
   "metadata": {
    "id": "QW4QbSaRM2ed"
   },
   "source": [
    "Import Statements"
   ]
  },
  {
   "cell_type": "code",
   "execution_count": 2,
   "metadata": {
    "id": "0MOgqkOlgXbu"
   },
   "outputs": [],
   "source": [
    "import numpy as np\n",
    "import math\n",
    "import os\n",
    "import sys\n",
    "from collections import deque\n",
    "import time\n",
    "import matplotlib.pyplot as plt"
   ]
  },
  {
   "cell_type": "markdown",
   "metadata": {
    "id": "F5TUvOssd7Zu"
   },
   "source": [
    "# **Problem 1:**\n",
    "\n",
    "**Suppose you are given two sequences D1 and D2 of n elements, possibly containing duplicates, on which a total order relation is defined. Describe an efficient algorithm for determining if D1 and D2 contain the same set of elements. What is the running time of this method?**\n",
    "\n"
   ]
  },
  {
   "cell_type": "markdown",
   "metadata": {
    "id": "mnQArOvBNLXf"
   },
   "source": [
    "### **Solution :**\n",
    "\n",
    "*   First, we initialise two empty sets\n",
    "*   Then, we append both the input array lists to the sets\n",
    "*   Firstly, we compare the length of both sets. Since \"sets\" are unique and no duplicate values are allowed in a set, we can compare if each set contain same number of elements\n",
    "*   Once we determine that both sets are of equal length, we compare values of each set by iterating through the set length once (time complexity ~ O(l) where l is length of the set)\n",
    "*   The running time for this Algorithm is O(n) which is the worst case where there are no duplicate elements in the input array lists"
   ]
  },
  {
   "cell_type": "markdown",
   "metadata": {
    "id": "BpMNrbxSNKTk"
   },
   "source": [
    "#### **Algorithm (Pseudo Code):**\n",
    "\n",
    "```\n",
    "CHECK-SETS(d1,d2)\n",
    "  #Initializing empty sets\n",
    "  set1 = set()\n",
    "  set2 = set()\n",
    "\n",
    "  #Append elements of each list to set\n",
    "  for i -> length(d1)\n",
    "      append d1 to set1\n",
    "  for i -> length(d2)\n",
    "      append d2 to set2\n",
    "  \n",
    "  #Compare length of both the sets\n",
    "  If len(set1) == len(set2)\n",
    "      #If length of both sets are equal, compare elements of both set - iterating once through set length\n",
    "      if set1 == set2\n",
    "          return True\n",
    "      else \n",
    "          return False\n",
    "```\n"
   ]
  },
  {
   "cell_type": "markdown",
   "metadata": {
    "id": "OKAci7UVM91I"
   },
   "source": [
    "#### **Algorithm (Code Implementation):**"
   ]
  },
  {
   "cell_type": "code",
   "execution_count": 3,
   "metadata": {
    "colab": {
     "base_uri": "https://localhost:8080/"
    },
    "id": "j-5vRM4leFoX",
    "outputId": "dbf38b20-9742-4947-cea2-06ec43d29d29"
   },
   "outputs": [
    {
     "name": "stdout",
     "output_type": "stream",
     "text": [
      "The given sets contain the same set of elements.\n"
     ]
    }
   ],
   "source": [
    "def check_set(d1,d2):\n",
    "  set1 = set()\n",
    "  set2 = set()\n",
    "  for i in range(len(d1)):\n",
    "      set1.add(d1[i])\n",
    "  # print(set1)\n",
    "  \n",
    "  for i in range(len(d2)):\n",
    "      set2.add(d2[i])\n",
    "  # print(set2)\n",
    "\n",
    "  if (len(set1) == len(set2)):\n",
    "      if(set1 == set2):\n",
    "          print(\"The given sets contain the same set of elements.\")   \n",
    "      else:\n",
    "          print('The given sets do not contain the same set of elements.')\n",
    "  else:\n",
    "      print('The given sets do not contain the same set of elements.')\n",
    "\n",
    "\n",
    "d1=[1,2,3,4,4,5,6,7,8]\n",
    "d2=[1,1,2,3,4,5,6,7,7,8]\n",
    "check_set(d1,d2)"
   ]
  },
  {
   "cell_type": "markdown",
   "metadata": {
    "id": "A6-PsX0cEl9H"
   },
   "source": [
    "# **Problem 2:**\n",
    "\n",
    "**Given an array D of n integers in the range [0, $n^{2}$ − 1], describe a simple method for sorting D in O(n) time.**"
   ]
  },
  {
   "cell_type": "markdown",
   "metadata": {
    "id": "0lUNaUNhNaRG"
   },
   "source": [
    "### **Solution :**\n",
    "\n",
    "We know that only a subset of the sorting algorithms sort in O(n). Radix Sort is the best algorithm to use in this case. It will use counting sort internally, but only for single digits. As a result, in the case of Radix sort, the array size of counting sort remains constant. That is why we have chosen Radix sort.\n",
    "To put this algorithm into action, we can use a counting sort for each digit in the range of least significant digit to most significant digit. \n",
    "\n",
    "For the algorithm the running time is O(d(n+k)) where d is the number of digits, n is the size of the input array and k is the range of values for each digit. Here, each digit takes value from 0 to 9, therefore k is 10.\n",
    "\n"
   ]
  },
  {
   "cell_type": "markdown",
   "metadata": {
    "id": "l4lcVq7TNfFZ"
   },
   "source": [
    "### **Algorithm (Pseudo Code):**\n",
    "\n",
    "\n",
    "\n",
    "```\n",
    "COUNTING-SORT(arr,x)\n",
    "    n -> length (arr)\n",
    "    let C[0...10] be new count array of size 10\n",
    "    let B[0...A.length] be new array\n",
    "    for i -> n\n",
    "        index -> arr[i] // x\n",
    "        c[index % 10] ++\n",
    "    for i -> (1,....,10)\n",
    "        c[i] -> c[i] + c[i-1]  \n",
    "    \n",
    "    While i > 0\n",
    "        index -> arr[i] // x\n",
    "        b[c[index % 10] - 1] -> arr[i]\n",
    "        c[index % 10] -> c[index % 10] - 1\n",
    "        i -> i - 1\n",
    "\n",
    "    for i in range(0, len(arr)):\n",
    "        arr[i] -> b[i]\n",
    "\n",
    "RADIX-SORT(arr)\n",
    "    max(arr)\n",
    "    while max / x > 0:\n",
    "        COUNTING-SORT(arr,x)\n",
    "        x *= 10\n",
    "    OUTPUT : arr\n",
    "\n",
    "```\n"
   ]
  },
  {
   "cell_type": "markdown",
   "metadata": {
    "id": "v25pn2Q_N_b1"
   },
   "source": [
    "### **Algorithm (Code Implementation):**"
   ]
  },
  {
   "cell_type": "code",
   "execution_count": 4,
   "metadata": {
    "colab": {
     "base_uri": "https://localhost:8080/"
    },
    "id": "dMEteFF3EylS",
    "outputId": "417e3281-a32d-4a79-f37e-a78a161907b6"
   },
   "outputs": [
    {
     "name": "stdout",
     "output_type": "stream",
     "text": [
      "[112, 218, 227, 333, 339, 441, 656]\n"
     ]
    }
   ],
   "source": [
    "def counting_sort(arr,x):\n",
    "    n = len(arr)\n",
    "    c = [0]*10  \n",
    "    b = [0]*n\n",
    "    for i in range(n):\n",
    "        index = arr[i]//x\n",
    "        c[index%10]+=1\n",
    "    for i in range(1,10):\n",
    "        c[i]+=c[i-1]\n",
    "    \n",
    "    i = n-1\n",
    "    while(i>=0):\n",
    "        index = arr[i] // x\n",
    "        b[c[index % 10] - 1] = arr[i]\n",
    "        c[index % 10] -= 1\n",
    "        i -= 1\n",
    "    \n",
    "    i = 0\n",
    "    for i in range(0, len(arr)):\n",
    "        arr[i] = b[i]\n",
    "        \n",
    "        \n",
    "def radix_sort(arr):\n",
    "    \n",
    "    maximum = max(arr)\n",
    "    x = 1\n",
    "    while maximum / x > 0:\n",
    "        counting_sort(arr, x)\n",
    "        x *= 10\n",
    "    print(arr)\n",
    "        \n",
    "arr = [333, 227, 112, 441, 656, 218, 339]\n",
    "radix_sort(arr)"
   ]
  },
  {
   "cell_type": "markdown",
   "metadata": {
    "id": "c7iTnXSQFI97"
   },
   "source": [
    "# **Problem 3:**\n",
    "**Given a sequence D of n elements, on which a total order relation is defined, describe an efficient method for determining whether there are two equal elements in D. What is the running time of your method?**\n",
    "\n",
    "\n"
   ]
  },
  {
   "cell_type": "markdown",
   "metadata": {
    "id": "RsKBzTfsOmT0"
   },
   "source": [
    "### **Solution :**\n",
    "\n",
    "\n",
    "\n",
    "*   First We create a new set and append the list value in set.\n",
    "*   Later we compare the value of an element with next element till the last element in the set and get the desired output.\n",
    "*   The Time-complexity for this algorithm is O(n), since accessing the elements of set takes O(n).\n"
   ]
  },
  {
   "cell_type": "markdown",
   "metadata": {
    "id": "DRZZK0AqOpRq"
   },
   "source": [
    "### **Algorithm (Pseudo Code):**\n",
    "\n",
    "```\n",
    "CHECK-VALUE(d)\n",
    "    set()\n",
    "    n -> Length of d\n",
    "    for i -> n\n",
    "        if d[i] in set()\n",
    "            return True\n",
    "        else \n",
    "            append d[i] -> set()\n",
    "    OUTPUT False\n",
    "\n",
    "\n",
    "```\n"
   ]
  },
  {
   "cell_type": "markdown",
   "metadata": {
    "id": "b1gs9N0yO1Ra"
   },
   "source": [
    "### **Algorithm (Code Implementation):**"
   ]
  },
  {
   "cell_type": "code",
   "execution_count": 5,
   "metadata": {
    "colab": {
     "base_uri": "https://localhost:8080/"
    },
    "id": "DvX2W2erFLwM",
    "outputId": "2bfcbd3d-ec42-416e-80b7-ef21e96e05dd"
   },
   "outputs": [
    {
     "name": "stdout",
     "output_type": "stream",
     "text": [
      "The set does not contains duplicate value\n"
     ]
    }
   ],
   "source": [
    "def check_values(d):\n",
    "  b = True\n",
    "  s = set()\n",
    "  n = len(d)\n",
    "  for i in range(n):\n",
    "      if(d[i] in s):\n",
    "          b=False\n",
    "          print(\"The set contains duplicate value\")\n",
    "          break\n",
    "      else:\n",
    "          s.add(d[i])\n",
    "  if(b == True):\n",
    "      print(\"The set does not contains duplicate value\")\n",
    "\n",
    "\n",
    "arr = [1,4,3,2,5]\n",
    "check_values(arr)"
   ]
  },
  {
   "cell_type": "markdown",
   "metadata": {
    "id": "Y9z4bmwTgyri"
   },
   "source": [
    "# **Problem 4:**\n",
    "**Implement a bottom-up merge-sort for a collection of items by placing each item in its own queue, and then repeatedly merging pairs of queues until all items are sorted within a single queue.**\n"
   ]
  },
  {
   "cell_type": "code",
   "execution_count": 6,
   "metadata": {
    "id": "2wZqwEUkiVec"
   },
   "outputs": [
    {
     "ename": "IndentationError",
     "evalue": "expected an indented block (<ipython-input-6-08b419ff9973>, line 33)",
     "output_type": "error",
     "traceback": [
      "\u001b[0;36m  File \u001b[0;32m\"<ipython-input-6-08b419ff9973>\"\u001b[0;36m, line \u001b[0;32m33\u001b[0m\n\u001b[0;31m    outputQueue.appendleft(l)\u001b[0m\n\u001b[0m    ^\u001b[0m\n\u001b[0;31mIndentationError\u001b[0m\u001b[0;31m:\u001b[0m expected an indented block\n"
     ]
    }
   ],
   "source": [
    "def merge(inputQueue,start,inc):\n",
    "    nSize = len(inputQueue)\n",
    "\n",
    "    outputQueue = deque()\n",
    "    leftQueue = deque()\n",
    "    rightQueue = deque()\n",
    "\n",
    "    #print(\"nSize: \"+str(nSize))\n",
    "    #print(\"start: \"+str(start))\n",
    "    #print(\"inc: \"+str(inc))\n",
    "\n",
    "    for i in range(inc):\n",
    "        if len(inputQueue)>0:\n",
    "            leftQueue.appendleft(inputQueue.pop())\n",
    "        else:\n",
    "            break\n",
    "\n",
    "    for i in range(min(inc,nSize-inc)):\n",
    "        if len(inputQueue)>0:\n",
    "            rightQueue.appendleft(inputQueue.pop())\n",
    "        else:\n",
    "            break\n",
    "\n",
    "    while len(leftQueue)>0 and len(rightQueue)>0:\n",
    "        #print(\"Both Queue Iteration\")\n",
    "        l = leftQueue.pop()\n",
    "        r = rightQueue.pop()\n",
    "\n",
    "        #print(\"l: \"+str(l))\n",
    "        #print(\"r: \"+str(r))\n",
    "\n",
    "        if l<r:\n",
    "        outputQueue.appendleft(l)\n",
    "        rightQueue.append(r)\n",
    "        else:\n",
    "        outputQueue.appendleft(r)\n",
    "        leftQueue.append(l)\n",
    "\n",
    "    while len(leftQueue)>0 and len(rightQueue) == 0:\n",
    "        #print(\"Left Queue Iteration\")\n",
    "        l = leftQueue.pop()\n",
    "        #print(\"l: \"+str(l))\n",
    "        outputQueue.appendleft(l)\n",
    "\n",
    "\n",
    "    while len(leftQueue)== 0 and len(rightQueue)>0:\n",
    "        #print(\"Right Queue Iteration\")\n",
    "        r = rightQueue.pop()\n",
    "        #print(\"r: \"+str(r))\n",
    "        outputQueue.appendleft(r)\n",
    "\n",
    "    return outputQueue\n"
   ]
  },
  {
   "cell_type": "code",
   "execution_count": 3,
   "metadata": {
    "colab": {
     "base_uri": "https://localhost:8080/"
    },
    "id": "Ql1Ky3n7gvoo",
    "outputId": "38fb1340-d39b-44be-d376-d8bb2119d918"
   },
   "outputs": [
    {
     "ename": "NameError",
     "evalue": "name 'deque' is not defined",
     "output_type": "error",
     "traceback": [
      "\u001b[0;31m---------------------------------------------------------------------------\u001b[0m",
      "\u001b[0;31mNameError\u001b[0m                                 Traceback (most recent call last)",
      "\u001b[0;32m<ipython-input-3-80efcf488ae3>\u001b[0m in \u001b[0;36m<module>\u001b[0;34m\u001b[0m\n\u001b[1;32m     33\u001b[0m \u001b[0;34m\u001b[0m\u001b[0m\n\u001b[1;32m     34\u001b[0m \u001b[0marr\u001b[0m \u001b[0;34m=\u001b[0m \u001b[0;34m[\u001b[0m\u001b[0;36m12\u001b[0m\u001b[0;34m,\u001b[0m \u001b[0;36m41\u001b[0m\u001b[0;34m,\u001b[0m \u001b[0;36m23\u001b[0m\u001b[0;34m,\u001b[0m \u001b[0;36m15\u001b[0m\u001b[0;34m,\u001b[0m \u001b[0;36m76\u001b[0m\u001b[0;34m,\u001b[0m \u001b[0;36m27\u001b[0m\u001b[0;34m,\u001b[0m \u001b[0;36m10\u001b[0m\u001b[0;34m]\u001b[0m\u001b[0;34m\u001b[0m\u001b[0;34m\u001b[0m\u001b[0m\n\u001b[0;32m---> 35\u001b[0;31m \u001b[0mmerge_sort\u001b[0m\u001b[0;34m(\u001b[0m\u001b[0marr\u001b[0m\u001b[0;34m)\u001b[0m\u001b[0;34m\u001b[0m\u001b[0;34m\u001b[0m\u001b[0m\n\u001b[0m",
      "\u001b[0;32m<ipython-input-3-80efcf488ae3>\u001b[0m in \u001b[0;36mmerge_sort\u001b[0;34m(inputArray)\u001b[0m\n\u001b[1;32m      1\u001b[0m \u001b[0;32mdef\u001b[0m \u001b[0mmerge_sort\u001b[0m\u001b[0;34m(\u001b[0m\u001b[0minputArray\u001b[0m\u001b[0;34m)\u001b[0m\u001b[0;34m:\u001b[0m\u001b[0;34m\u001b[0m\u001b[0;34m\u001b[0m\u001b[0m\n\u001b[0;32m----> 2\u001b[0;31m     \u001b[0minputQueue\u001b[0m \u001b[0;34m=\u001b[0m \u001b[0mdeque\u001b[0m\u001b[0;34m(\u001b[0m\u001b[0;34m)\u001b[0m\u001b[0;34m\u001b[0m\u001b[0;34m\u001b[0m\u001b[0m\n\u001b[0m\u001b[1;32m      3\u001b[0m     \u001b[0;32mfor\u001b[0m \u001b[0mi\u001b[0m \u001b[0;32min\u001b[0m \u001b[0minputArray\u001b[0m\u001b[0;34m:\u001b[0m\u001b[0;34m\u001b[0m\u001b[0;34m\u001b[0m\u001b[0m\n\u001b[1;32m      4\u001b[0m         \u001b[0minputQueue\u001b[0m\u001b[0;34m.\u001b[0m\u001b[0mappendleft\u001b[0m\u001b[0;34m(\u001b[0m\u001b[0mi\u001b[0m\u001b[0;34m)\u001b[0m\u001b[0;34m\u001b[0m\u001b[0;34m\u001b[0m\u001b[0m\n\u001b[1;32m      5\u001b[0m     \u001b[0mnSize\u001b[0m \u001b[0;34m=\u001b[0m \u001b[0mlen\u001b[0m\u001b[0;34m(\u001b[0m\u001b[0minputQueue\u001b[0m\u001b[0;34m)\u001b[0m\u001b[0;34m\u001b[0m\u001b[0;34m\u001b[0m\u001b[0m\n",
      "\u001b[0;31mNameError\u001b[0m: name 'deque' is not defined"
     ]
    }
   ],
   "source": [
    "def merge_sort(inputArray):\n",
    "    inputQueue = deque()\n",
    "    for i in inputArray:\n",
    "        inputQueue.appendleft(i)\n",
    "    nSize = len(inputQueue)\n",
    "    logn = math.ceil(math.log(nSize,2))\n",
    "    inputQueue_i = deque() \n",
    "    inputQueue_input = inputQueue.copy()\n",
    "    for i in (2**k for k in range(logn)):\n",
    "        #print(\"i: \"+str(i))\n",
    "        for j in range(0,nSize,2*i):\n",
    "              #inputQueue_input = inputQueue.copy()\n",
    "              #print(\"j: \"+str(j))\n",
    "              outputQueue = merge(inputQueue_input,j,i)\n",
    "              #print(\"output queue size: \"+str(len(outputQueue)))\n",
    "      #print(\"Printing output Queue\")\n",
    "    for k in range(len(outputQueue)):\n",
    "        a = outputQueue.pop()\n",
    "        #print(a)\n",
    "        inputQueue_i.appendleft(a)\n",
    "      #print(\"\\n\")\n",
    "\n",
    "    inputQueue_input = inputQueue_i.copy()\n",
    "    inputQueue_i.clear()\n",
    "    #print(\"\\n\")\n",
    "  \n",
    "    output = []\n",
    "    for i in range(len(inputQueue_input)):\n",
    "        output.append(inputQueue_input.pop())\n",
    "  \n",
    "    print(\"Merge Sort: \", output)\n",
    "\n",
    "\n",
    "arr = [12, 41, 23, 15, 76, 27, 10]\n",
    "merge_sort(arr)"
   ]
  },
  {
   "cell_type": "markdown",
   "metadata": {
    "id": "H58z_damhEOY"
   },
   "source": [
    "# **Problem  5:**\n",
    "\n",
    "**Implement the heap-sort algorithm given in algorithm 1. The max_heapify and build_max_heap procedures are described in algorithm 2 and algorithm 3, respectively.**\n",
    "\n"
   ]
  },
  {
   "cell_type": "code",
   "execution_count": null,
   "metadata": {
    "colab": {
     "base_uri": "https://localhost:8080/"
    },
    "id": "3I0i2-cmhFy3",
    "outputId": "2b50b754-f52d-4a0a-a492-be2285fb56ac"
   },
   "outputs": [
    {
     "name": "stdout",
     "output_type": "stream",
     "text": [
      "Heap Sort:  [1, 2, 4, 5, 6, 7, 10, 11, 12, 13, 99]\n"
     ]
    }
   ],
   "source": [
    "def max_heapify(d,input_length,i):\n",
    "    largest = i\n",
    "    l = 2*i + 1\n",
    "    r = 2*i + 2\n",
    "\n",
    "    if l < input_length and d[l] > d[i]:\n",
    "        largest = l\n",
    "    else:\n",
    "        largest = i\n",
    "    \n",
    "    if r < input_length and d[r] > d[largest]:\n",
    "        largest = r\n",
    "    \n",
    "    if largest != i:\n",
    "        d[i], d[largest] = d[largest], d[i]\n",
    "        max_heapify(d,input_length,largest)\n",
    "        \n",
    "    \n",
    "def build_max_heap(d):\n",
    "    input_length = len(d)\n",
    "    for i in range (input_length//2,-1,-1):\n",
    "        max_heapify(d,input_length,i)\n",
    "        \n",
    "def heap_sort(d):\n",
    "    build_max_heap(d)\n",
    "    input_length = len(d)\n",
    "    for i in range(input_length-1, 0, -1):\n",
    "        d[i], d[0] = d[0], d[i]   \n",
    "        max_heapify(d, i, 0)\n",
    "    print('Heap Sort: ', d)\n",
    "    \n",
    "  \n",
    "d = [2, 12, 11, 13, 5, 6, 7, 10, 1, 99, 4]\n",
    "heap_sort(d)"
   ]
  },
  {
   "cell_type": "markdown",
   "metadata": {
    "id": "MVkDzPqNhIaT"
   },
   "source": [
    "# **Problem 6:**\n",
    "**Implement the counting-sort algorithm given in algorithm 4.**"
   ]
  },
  {
   "cell_type": "code",
   "execution_count": null,
   "metadata": {
    "colab": {
     "base_uri": "https://localhost:8080/"
    },
    "id": "EEM-1iBL1htO",
    "outputId": "60ef8679-f222-40fc-c15b-e72c0da2a904"
   },
   "outputs": [
    {
     "name": "stdout",
     "output_type": "stream",
     "text": [
      "Counting Sort:  [10 12 15 23 27 41 76]\n"
     ]
    }
   ],
   "source": [
    "def counting_sort(input, output, k):\n",
    "  \n",
    "  #initializing output array of same size as input array\n",
    "  output = np.zeros((len(input)), dtype=int)\n",
    "\n",
    "  #Initializing an array of size k with all zero elements\n",
    "  countArr = np.zeros((k+1,), dtype=int)\n",
    "\n",
    "  #Iterating through input arr\n",
    "  for i in input:\n",
    "    countArr[i] += 1\n",
    "  \n",
    "  #Taking cummulative sum\n",
    "  for i in range (1,k+1):\n",
    "    countArr[i] = countArr[i] + countArr[i-1]\n",
    "  \n",
    "  #Rearraning the elements based on count of each element\n",
    "  i = len(input) - 1\n",
    "  while i>=0:\n",
    "    a = input[i]\n",
    "    index = countArr[a]\n",
    "    output[index - 1] = a\n",
    "    countArr[a] = countArr[a]-1\n",
    "    i = i - 1\n",
    "  print(\"Counting Sort: \", output)\n",
    "\n",
    "arr = [12, 41, 23, 15, 76, 27, 10]\n",
    "output = []\n",
    "k = np.max(arr)\n",
    "counting_sort(arr,output,k)\n",
    "\n"
   ]
  },
  {
   "cell_type": "markdown",
   "metadata": {
    "id": "J6rWgECEhLSD"
   },
   "source": [
    "# **Problem 7:**\n",
    "**Implement the bucket sort algorithm given in algorithm 5.**"
   ]
  },
  {
   "cell_type": "code",
   "execution_count": null,
   "metadata": {
    "id": "oUAT8OWrhNAe"
   },
   "outputs": [],
   "source": [
    "def insertion_sort(b):\n",
    "    for i in range(1,len(b)):\n",
    "        element = b[i]\n",
    "        j = i-1\n",
    "        while j >= 0 and b[j] > element:\n",
    "            b[j+1] = b[j]\n",
    "            j-=1\n",
    "        b[j+1] = element\n",
    "    return b"
   ]
  },
  {
   "cell_type": "code",
   "execution_count": null,
   "metadata": {
    "colab": {
     "base_uri": "https://localhost:8080/"
    },
    "id": "u0FynqjLmcgL",
    "outputId": "104e1e87-157c-4a48-d893-87fcda851848"
   },
   "outputs": [
    {
     "name": "stdout",
     "output_type": "stream",
     "text": [
      "Bucket Sort (decimals):  [0.32, 0.33, 0.37, 0.42, 0.47, 0.51, 0.52]\n"
     ]
    }
   ],
   "source": [
    "# For Decimal input\n",
    "def bucket_sort_decimal(d):\n",
    "    input_length = len(d)\n",
    "    b = []\n",
    "    \n",
    "    for i in range(input_length):\n",
    "        b.append([])\n",
    "\n",
    "    for j in d:\n",
    "        index_b = int(input_length * j)\n",
    "        b[index_b].append(j)\n",
    "\n",
    "    for i in range(input_length):\n",
    "        b[i] = insertion_sort(b[i])\n",
    "\n",
    "    k = 0\n",
    "    for i in range(input_length):\n",
    "        for j in range(len(b[i])):\n",
    "            d[k] = b[i][j]\n",
    "            k += 1\n",
    "    print(\"Bucket Sort (decimals): \",arr)\n",
    "\n",
    "\n",
    "arr = [.42, .32, .33, .52, .37, .47, .51]\n",
    "bucket_sort_decimal(arr)"
   ]
  },
  {
   "cell_type": "code",
   "execution_count": null,
   "metadata": {
    "colab": {
     "base_uri": "https://localhost:8080/"
    },
    "id": "I2Exp3lpmien",
    "outputId": "0b233970-b10e-4cea-9bcc-29bb143cafd3"
   },
   "outputs": [
    {
     "name": "stdout",
     "output_type": "stream",
     "text": [
      "Bucket Sort:  [10, 12, 15, 23, 27, 41, 76]\n"
     ]
    }
   ],
   "source": [
    "# For integer inputs\n",
    "\n",
    "def bucket_sort_integer(d):\n",
    "    input_length = len(d)\n",
    "    p =- 1\n",
    "    maximum = int(max(d))\n",
    "    l=[10,100,1000,10000,100000]\n",
    "    \n",
    "    \n",
    "    for i in range(len(l)):\n",
    "        if(maximum % l[i] == maximum):\n",
    "            p = l[i]\n",
    "            break\n",
    "    if(p != -1):\n",
    "        for i in range(input_length):\n",
    "            d[i] = d[i] / p\n",
    "    \n",
    "    b = []\n",
    "    for i in range(input_length):\n",
    "        b.append([])\n",
    "    \n",
    "    for j in d:\n",
    "        index_b = int(input_length * j)\n",
    "        b[index_b].append(j)\n",
    "    \n",
    "    for i in range(len(b)):\n",
    "        b[i] = insertion_sort(b[i])\n",
    "        \n",
    "    k=0\n",
    "    for i in range(input_length):\n",
    "        for j in range(len(b[i])):\n",
    "            d[k] = b[i][j]\n",
    "            k+=1\n",
    "    \n",
    "    for i in range(input_length):\n",
    "        d[i] = int(d[i] * p)\n",
    "    print('Bucket Sort: ',d)\n",
    "    \n",
    "arr = [ 12, 41, 23, 15, 76, 27, 10]\n",
    "bucket_sort_integer(arr)"
   ]
  },
  {
   "cell_type": "markdown",
   "metadata": {
    "id": "G82tVbXWQ55l"
   },
   "source": [
    "# **Analysis of Time Complexity for sorting algorithms in Problem 4 to 7**"
   ]
  },
  {
   "cell_type": "markdown",
   "metadata": {
    "id": "nk6dFKEQRE7e"
   },
   "source": [
    "Problem 4 - Merge Sort <br>\n",
    "Problem 5 - Heap Sort <br>\n",
    "Problem 6 - Counting Sort <br>\n",
    "Problem 7 - Bucket Sort <br>"
   ]
  },
  {
   "cell_type": "code",
   "execution_count": null,
   "metadata": {
    "id": "TS79mke9TjBN"
   },
   "outputs": [],
   "source": [
    "# Helper function to run and get running time for the 4 algorithms\n",
    "\n",
    "def runningAnalysis(arr, outputArray_merge, outputArray_heap, outputArray_count, outputArray_bucket):\n",
    "  start = time.time()\n",
    "  merge_sort(arr)\n",
    "  end = time.time()\n",
    "  outputArray_merge.append(end-start)\n",
    "\n",
    "  start = time.time()\n",
    "  heap_sort(arr)\n",
    "  end = time.time()\n",
    "  outputArray_heap.append(end-start)\n",
    "  \n",
    "  output = []\n",
    "  k = np.max(arr)\n",
    "  start = time.time()\n",
    "  counting_sort(arr,output,k)\n",
    "  end = time.time()\n",
    "  outputArray_count.append(end-start)\n",
    "  \n",
    "  start = time.time()\n",
    "  bucket_sort_integer(arr)\n",
    "  end = time.time()\n",
    "  outputArray_bucket.append(end-start)\n",
    "  "
   ]
  },
  {
   "cell_type": "code",
   "execution_count": null,
   "metadata": {
    "id": "c3g-jNGDREOg"
   },
   "outputs": [],
   "source": [
    "# Randomly initilaized arrays for time comparision\n",
    "maxSize = 10**5\n",
    "outputUnsortedArray_merge = []\n",
    "outputUnsortedArray_heap = []\n",
    "outputUnsortedArray_count = []\n",
    "outputUnsortedArray_bucket = []\n",
    "\n",
    "outputSortedArray_merge = []\n",
    "outputSortedArray_heap = []\n",
    "outputSortedArray_count = []\n",
    "outputSortedArray_bucket = []\n",
    "\n",
    "xAxis = []\n",
    "\n",
    "for i in range (1,maxSize,10000):\n",
    "  xAxis.append(i)\n",
    "  randomArrayUnsorted = np.random.randint(1,maxSize,size = i)\n",
    "  randomArraySorted = np.sort(randomArrayUnsorted)\n",
    "  runningAnalysis(randomArrayUnsorted,outputUnsortedArray_merge,outputUnsortedArray_heap,outputUnsortedArray_count,outputUnsortedArray_bucket)\n",
    "  runningAnalysis(randomArraySorted,outputSortedArray_merge,outputSortedArray_heap,outputSortedArray_count,outputSortedArray_bucket)\n"
   ]
  },
  {
   "cell_type": "markdown",
   "metadata": {
    "id": "0eJwJRzJS0T6"
   },
   "source": [
    "# Comparing the 4 algorithms for Unsorted Array"
   ]
  },
  {
   "cell_type": "code",
   "execution_count": null,
   "metadata": {
    "colab": {
     "base_uri": "https://localhost:8080/",
     "height": 299
    },
    "id": "pEjcEayuSUM6",
    "outputId": "11aa80c5-8b55-4dfa-d4bb-58ead8c17a23"
   },
   "outputs": [
    {
     "data": {
      "image/png": "[encoded data removed]",
      "text/plain": [
       "<Figure size 432x288 with 1 Axes>"
      ]
     },
     "metadata": {
      "needs_background": "light"
     },
     "output_type": "display_data"
    }
   ],
   "source": [
    "plt.plot(xAxis,outputUnsortedArray_merge)\n",
    "plt.plot(xAxis,outputUnsortedArray_heap)\n",
    "plt.plot(xAxis,outputUnsortedArray_count)\n",
    "plt.plot(xAxis,outputUnsortedArray_bucket)\n",
    "plt.title('Running time vs Input size')\n",
    "plt.yscale(\"log\")\n",
    "plt.xscale(\"log\")\n",
    "plt.ylabel('Log of Running time')\n",
    "plt.xlabel('Log of input size')\n",
    "plt.legend([\"Merge Sort\", \"Heap Sort\",\"Counting Sort\",\"Bucket Sort\"])\n",
    "plt.show()"
   ]
  },
  {
   "cell_type": "markdown",
   "metadata": {},
   "source": [
    "The Graph shows us that Bucket Sort takes the maximum time out of the 4 Algorithms and this is the analysis of unsorted algorithm hence it is not uniform towards the end."
   ]
  },
  {
   "cell_type": "markdown",
   "metadata": {
    "id": "bg1VUsMbbxu6"
   },
   "source": [
    "# Comparing the 4 algorithms for Sorted Array"
   ]
  },
  {
   "cell_type": "code",
   "execution_count": null,
   "metadata": {
    "colab": {
     "base_uri": "https://localhost:8080/",
     "height": 299
    },
    "id": "3SN6bSbKWhsE",
    "outputId": "d2d67504-6e47-4d03-95aa-3d981a5c09bd"
   },
   "outputs": [
    {
     "data": {
      "image/png": "[encoded data removed]",
      "text/plain": [
       "<Figure size 432x288 with 1 Axes>"
      ]
     },
     "metadata": {
      "needs_background": "light"
     },
     "output_type": "display_data"
    }
   ],
   "source": [
    "plt.plot(xAxis,outputSortedArray_merge)\n",
    "plt.plot(xAxis,outputSortedArray_heap)\n",
    "plt.plot(xAxis,outputSortedArray_count)\n",
    "plt.plot(xAxis,outputSortedArray_bucket)\n",
    "plt.title('Running time vs Input size')\n",
    "plt.yscale(\"log\")\n",
    "plt.xscale(\"log\")\n",
    "plt.ylabel('Log of Running time')\n",
    "plt.xlabel('Log of input size')\n",
    "plt.legend([\"Merge Sort\", \"Heap Sort\",\"Counting Sort\",\"Bucket Sort\"])\n",
    "plt.show()"
   ]
  },
  {
   "cell_type": "markdown",
   "metadata": {
    "id": "of6JLcqPb3nY"
   },
   "source": [
    "The Graph shows us that Bucket Sort again takes the maximum time and since this is the analysis for sorted arrays therefore throughout the graph is uniform."
   ]
  }
 ],
 "metadata": {
  "colab": {
   "collapsed_sections": [
    "kWVo_8PTMbHd",
    "F5TUvOssd7Zu",
    "A6-PsX0cEl9H",
    "c7iTnXSQFI97",
    "Y9z4bmwTgyri",
    "H58z_damhEOY",
    "MVkDzPqNhIaT",
    "J6rWgECEhLSD",
    "G82tVbXWQ55l"
   ],
   "name": "Assignment 4.ipynb",
   "provenance": []
  },
  "kernelspec": {
   "display_name": "Python 3",
   "language": "python",
   "name": "python3"
  },
  "language_info": {
   "codemirror_mode": {
    "name": "ipython",
    "version": 3
   },
   "file_extension": ".py",
   "mimetype": "text/x-python",
   "name": "python",
   "nbconvert_exporter": "python",
   "pygments_lexer": "ipython3",
   "version": "3.8.8"
  }
 },
 "nbformat": 4,
 "nbformat_minor": 1
}
