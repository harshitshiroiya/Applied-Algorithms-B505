{
 "cells": [
  {
   "cell_type": "markdown",
   "id": "cb6937fa",
   "metadata": {},
   "source": [
    "### 3.1) Longest Prefix P which is a Substring in T"
   ]
  },
  {
   "cell_type": "markdown",
   "id": "e6ff535e",
   "metadata": {},
   "source": [
    "This was a pretty tricky question. We understood a lot of algorithms by solving this question. Some of them are Robin Karp, Z, Trie, etc. Here is the algorithm what we came up with.\n",
    "\n",
    "It is similar to KMP but not same. In the pre_process pattern, rather than relying on previous index, we update variable start after every character of the pattern. \n",
    "\n",
    "Next we added the max_len variable which calculated the max value of pattern. Max_len was chosen as the parameter for finding the max prefix as if max_len equals m that means the whole pattern was found in the string while 0 means no pattern was found. This implied that the max value of Max_len will return the longest prefix of pattern which is the substring of the string T. This algorithm's time complexity is Ω(d+p)."
   ]
  },
  {
   "cell_type": "code",
   "execution_count": 2,
   "id": "333f2ef9",
   "metadata": {},
   "outputs": [
    {
     "name": "stdout",
     "output_type": "stream",
     "text": [
      "a 1\n"
     ]
    }
   ],
   "source": [
    "\n",
    "def preprocess_pattern(P):\n",
    "    start = 0\n",
    "    end = len(P) - 1\n",
    "    pat_array = [0]*len(P)\n",
    "    for i in range(1,len(P)):\n",
    "        if P[start] == P[i]:\n",
    "            start+=1\n",
    "            pat_array[i] = start\n",
    "        else:\n",
    "            while(start>0 and pat_array[start-1]!=pat_array[i]):\n",
    "                start-=1\n",
    "            pat_array[i] = start\n",
    "    return pat_array\n",
    "\n",
    "def find_longest_prefix(T, P):\n",
    "    n, m = len(T), len(P)\n",
    "    i = 0\n",
    "    j = 0\n",
    "    max_len = 0\n",
    "    pat_array = preprocess_pattern(P)\n",
    "    while i < n:\n",
    "        if T[i] == P[j]:\n",
    "            i +=1\n",
    "            j +=1\n",
    "            max_len=max(j,max_len)\n",
    "        else:\n",
    "            while(j>0 and pat_array[j]!=T[i]):\n",
    "                j = pat_array[j-1]\n",
    "            if(P[j]!=T[i] and j==0):\n",
    "                i+=1\n",
    "        if(j==len(P)):\n",
    "            return P[:len(P)]\n",
    "    return P[:max_len]\n",
    "\n",
    "T = 'abhlmlsfmvkfvmnfv'\n",
    "P = 'awesdxghfhgvm'\n",
    "\n",
    "print(find_longest_prefix(T,P),len(find_longest_prefix(T,P)))"
   ]
  },
  {
   "cell_type": "markdown",
   "id": "e83366aa",
   "metadata": {},
   "source": [
    "### 3.2) T = X+Y+Z"
   ]
  },
  {
   "cell_type": "markdown",
   "id": "0e890ad0",
   "metadata": {},
   "source": [
    "We have 3 lists (X, Y, Z). We sorted the third list (Z). Then we traversed first list (X) and the second list (Y). Finally we find the value c = t-X[i]-Y[j] in the last list where i and j are indexes in lists X and Y. Using Binary Search, we find c in list Z. If its present, we return True, else return False.\n",
    "The total time complexity of this algorithm is O(m^2logm+mlogm) = O(m^2logm). The additional mlogm is for sorting the third list."
   ]
  },
  {
   "cell_type": "code",
   "execution_count": 5,
   "id": "3efe8283",
   "metadata": {},
   "outputs": [
    {
     "name": "stdout",
     "output_type": "stream",
     "text": [
      "5 1 4\n"
     ]
    },
    {
     "data": {
      "text/plain": [
       "True"
      ]
     },
     "execution_count": 5,
     "metadata": {},
     "output_type": "execute_result"
    }
   ],
   "source": [
    "def binarySearch (arr, l, r, x):\n",
    "    if r >= l:\n",
    "        mid = l + (r - l) // 2\n",
    "        if arr[mid] == x:\n",
    "            return True\n",
    "        elif arr[mid] > x:\n",
    "            return binarySearch(arr, l, mid-1, x)\n",
    "        else:\n",
    "            return binarySearch(arr, mid + 1, r, x)\n",
    "    else:\n",
    "        return False\n",
    "\n",
    "def findTriplet(X,Y,Z,t):\n",
    "    Z.sort()\n",
    "    for i in range(len(X)):\n",
    "        a = X[i]\n",
    "        for j in range(len(Y)):\n",
    "            b = Y[j]\n",
    "            if(binarySearch(Z,0,len(Z)-1,t-a-b)):\n",
    "                print(a,b,t-a-b)\n",
    "                return True\n",
    "    return False\n",
    "\n",
    "X = [5,6,3,4,7,8,1]\n",
    "Y = [1,4,2,5,7,9,2]\n",
    "Z = [0,9,7,5,4,7,4]\n",
    "T = 10\n",
    "\n",
    "findTriplet(X,Y,Z,T)"
   ]
  },
  {
   "cell_type": "markdown",
   "id": "3b9bdb53",
   "metadata": {},
   "source": [
    "### 3.3) Delete String in Trie Tree"
   ]
  },
  {
   "cell_type": "markdown",
   "id": "736fecfe",
   "metadata": {},
   "source": [
    "```\n",
    "Algorithm : \n",
    "\n",
    "Input:A compressed trie T and a string s\n",
    "\n",
    "Output: T without string s\n",
    "  \n",
    "  if string s not in Trie T \n",
    "    then return False\n",
    "  else \n",
    "    let u be the node where s was found \n",
    "    \n",
    "    if s is not equal to the whole string ended at u or u has a child \n",
    "        return False // we cannot delete an internal node \n",
    "    let v be the parent of u \n",
    "    delete u \n",
    "    if v has a child c then\n",
    "        // p.string denotes the string stored at a node p \n",
    "        v.string ← v.string + c.string \n",
    "        delete node c // merge v and c into a single node \n",
    "  return True // successful deletion\n",
    "```"
   ]
  },
  {
   "cell_type": "markdown",
   "id": "41989768",
   "metadata": {},
   "source": [
    "The running time of above algorithm is O(n) where n is the length of largest string."
   ]
  },
  {
   "cell_type": "markdown",
   "id": "a3d98a0a",
   "metadata": {},
   "source": [
    "Sample Test Cases\n",
    "\n",
    "```\n",
    "Let T contains words: {'cat','child','children','cough','caught'}\n",
    "\n",
    "Let's delete children\n",
    "\n",
    "So,first we will crawl from root to n of children by checking all the letters of children are present or not.\n",
    "Let v be parent of node n of children.\n",
    "After reaching n, we will delete n.\n",
    "If v has child c then merge c into v and delete c. \n",
    "Since there are no child of string children, we will delete n,e and r of children.\n",
    "\n",
    "Then T will contain words: {'cat','child','cough','caught'}\n",
    "```"
   ]
  },
  {
   "cell_type": "markdown",
   "id": "ce64c5d3",
   "metadata": {},
   "source": [
    "## Problem 3: Algorithm Design\n",
    "\n",
    "### Problem 3.1\n",
    "    Given a text D and a pattern P, describe an Ω(d+p) time method for finding the longest prefix of P that is a substring of D. The lengths of D and P are d and p, respectively."
   ]
  },
  {
   "cell_type": "code",
   "execution_count": 4,
   "id": "b092ae81",
   "metadata": {},
   "outputs": [
    {
     "name": "stdout",
     "output_type": "stream",
     "text": [
      "good 4\n",
      "avcdf 5\n"
     ]
    }
   ],
   "source": [
    "def process_pattern(P):\n",
    "    x = 0\n",
    "    y = len(P) - 1\n",
    "    pattern = [0]*len(P)\n",
    "    for i in range(1,len(P)):\n",
    "        if P[x] == P[i]:\n",
    "            x+=1\n",
    "            pattern[i] = x\n",
    "        else:\n",
    "            while(x > 0 and pattern[x-1]!=pattern[i]):\n",
    "                x-=1\n",
    "            pattern[i] = x\n",
    "    return pattern\n",
    "\n",
    "def searching_pattern(T, P):\n",
    "    n, m = len(T), len(P)\n",
    "    i = 0\n",
    "    j = 0\n",
    "    max_len = 0\n",
    "    pattern = process_pattern(P)\n",
    "    while i < n:\n",
    "        if T[i] == P[j]:\n",
    "            i +=1\n",
    "            j +=1\n",
    "            max_len=max(j,max_len)\n",
    "        else:\n",
    "            while(j>0 and pattern[j]!=T[i]):\n",
    "                j = pattern[j-1]\n",
    "            if(P[j]!=T[i] and j==0):\n",
    "                i+=1\n",
    "        if(j==len(P)):\n",
    "            return P[:len(P)]\n",
    "    return P[:max_len]\n",
    "\n",
    "T = 'This is a good code.'\n",
    "P = 'good'\n",
    "print(searching_pattern(T,P),len(searching_pattern(T,P)))\n",
    "\n",
    "T1 = 'aaaabbbbbhhhggghggavcdfgh'\n",
    "P1 = 'avcdf'\n",
    "print(searching_pattern(T1,P1),len(searching_pattern(T1,P1)))"
   ]
  },
  {
   "cell_type": "code",
   "execution_count": null,
   "id": "c0213dd5",
   "metadata": {},
   "outputs": [],
   "source": []
  }
 ],
 "metadata": {
  "kernelspec": {
   "display_name": "Python 3",
   "language": "python",
   "name": "python3"
  },
  "language_info": {
   "codemirror_mode": {
    "name": "ipython",
    "version": 3
   },
   "file_extension": ".py",
   "mimetype": "text/x-python",
   "name": "python",
   "nbconvert_exporter": "python",
   "pygments_lexer": "ipython3",
   "version": "3.8.8"
  }
 },
 "nbformat": 4,
 "nbformat_minor": 5
}
